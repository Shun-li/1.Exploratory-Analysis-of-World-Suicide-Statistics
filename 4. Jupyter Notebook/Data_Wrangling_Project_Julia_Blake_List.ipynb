{
 "cells": [
  {
   "cell_type": "markdown",
   "metadata": {},
   "source": [
    "# DATA422: Data Wrangling Project (Julia Part) - Blake List\n",
    "The following code s used to read in, wrangle and visualize the suicide rates per 100,000 population for males and females by country. This data is used to create a stacked bar plot featuring the suicide rates for males and females for European Union countries during the year 2016."
   ]
  },
  {
   "cell_type": "code",
   "execution_count": 114,
   "metadata": {},
   "outputs": [
    {
     "name": "stderr",
     "output_type": "stream",
     "text": [
      "\u001b[1m\u001b[36mINFO: \u001b[39m\u001b[22m\u001b[36mUpdating METADATA...\n",
      "\u001b[39m\u001b[1m\u001b[36mINFO: \u001b[39m\u001b[22m\u001b[36mComputing changes...\n",
      "\u001b[39m\u001b[1m\u001b[36mINFO: \u001b[39m\u001b[22m\u001b[36mNo packages to install, update or remove\n",
      "\u001b[39m"
     ]
    }
   ],
   "source": [
    "# Update packages.\n",
    "Pkg.update()"
   ]
  },
  {
   "cell_type": "code",
   "execution_count": 81,
   "metadata": {},
   "outputs": [],
   "source": [
    "# Import necessary libraries for loading, manipulating and visualizing the data.\n",
    "using DataFrames\n",
    "using DataFramesMeta\n",
    "using CSV\n",
    "using Query\n",
    "using VegaLite\n",
    "using CategoricalArrays"
   ]
  },
  {
   "cell_type": "code",
   "execution_count": 82,
   "metadata": {},
   "outputs": [
    {
     "data": {
      "text/html": [
       "<table class=\"data-frame\"><thead><tr><th></th><th>Country</th><th>Sex</th><th>2016</th><th>2015</th><th>2010</th><th>2005</th><th>2000</th></tr></thead><tbody><tr><th>1</th><td>Afghanistan</td><td>Both sexes</td><td>4.7</td><td>4.8</td><td>5.1</td><td>6.3</td><td>5.7</td></tr><tr><th>2</th><td>Afghanistan</td><td>Male</td><td>7.6</td><td>7.8</td><td>8.6</td><td>10.8</td><td>10.0</td></tr><tr><th>3</th><td>Afghanistan</td><td>Female</td><td>1.5</td><td>1.5</td><td>1.4</td><td>1.5</td><td>1.0</td></tr><tr><th>4</th><td>Albania</td><td>Both sexes</td><td>6.3</td><td>6.0</td><td>7.8</td><td>6.7</td><td>5.5</td></tr><tr><th>5</th><td>Albania</td><td>Male</td><td>7.9</td><td>7.6</td><td>9.5</td><td>7.7</td><td>7.4</td></tr><tr><th>6</th><td>Albania</td><td>Female</td><td>4.7</td><td>4.4</td><td>6.1</td><td>5.7</td><td>3.5</td></tr><tr><th>7</th><td>Algeria</td><td>Both sexes</td><td>3.2</td><td>3.2</td><td>3.3</td><td>3.8</td><td>4.1</td></tr><tr><th>8</th><td>Algeria</td><td>Male</td><td>4.7</td><td>4.8</td><td>4.9</td><td>5.3</td><td>5.6</td></tr><tr><th>9</th><td>Algeria</td><td>Female</td><td>1.7</td><td>1.7</td><td>1.8</td><td>2.2</td><td>2.5</td></tr><tr><th>10</th><td>Angola</td><td>Both sexes</td><td>4.7</td><td>5.0</td><td>5.7</td><td>7.2</td><td>7.9</td></tr><tr><th>11</th><td>Angola</td><td>Male</td><td>7.0</td><td>7.5</td><td>8.7</td><td>11.0</td><td>11.9</td></tr><tr><th>12</th><td>Angola</td><td>Female</td><td>2.5</td><td>2.6</td><td>2.8</td><td>3.7</td><td>4.0</td></tr><tr><th>13</th><td>Antigua and Barbuda</td><td>Both sexes</td><td>0.5</td><td>0.8</td><td>0.3</td><td>1.2</td><td>2.0</td></tr><tr><th>14</th><td>Antigua and Barbuda</td><td>Male</td><td>0.0</td><td>0.0</td><td>0.5</td><td>2.4</td><td>4.2</td></tr><tr><th>15</th><td>Antigua and Barbuda</td><td>Female</td><td>0.9</td><td>1.5</td><td>0.0</td><td>0.0</td><td>0.1</td></tr><tr><th>16</th><td>Argentina</td><td>Both sexes</td><td>9.2</td><td>8.8</td><td>8.7</td><td>9.0</td><td>9.5</td></tr><tr><th>17</th><td>Argentina</td><td>Male</td><td>15.1</td><td>14.5</td><td>14.3</td><td>14.4</td><td>15.6</td></tr><tr><th>18</th><td>Argentina</td><td>Female</td><td>3.5</td><td>3.4</td><td>3.3</td><td>3.9</td><td>3.7</td></tr><tr><th>19</th><td>Armenia</td><td>Both sexes</td><td>6.6</td><td>7.0</td><td>6.0</td><td>4.4</td><td>3.3</td></tr><tr><th>20</th><td>Armenia</td><td>Male</td><td>10.8</td><td>11.5</td><td>10.1</td><td>7.4</td><td>5.5</td></tr><tr><th>21</th><td>Armenia</td><td>Female</td><td>2.8</td><td>3.0</td><td>2.4</td><td>1.7</td><td>1.3</td></tr><tr><th>22</th><td>Australia</td><td>Both sexes</td><td>13.2</td><td>13.8</td><td>12.5</td><td>12.3</td><td>13.2</td></tr><tr><th>23</th><td>Australia</td><td>Male</td><td>19.5</td><td>20.4</td><td>18.6</td><td>18.6</td><td>20.4</td></tr><tr><th>24</th><td>Australia</td><td>Female</td><td>7.0</td><td>7.2</td><td>6.3</td><td>6.0</td><td>6.1</td></tr><tr><th>25</th><td>Austria</td><td>Both sexes</td><td>15.6</td><td>16.0</td><td>16.0</td><td>17.3</td><td>20.0</td></tr><tr><th>26</th><td>Austria</td><td>Male</td><td>23.9</td><td>24.9</td><td>25.0</td><td>26.6</td><td>30.0</td></tr><tr><th>27</th><td>Austria</td><td>Female</td><td>7.7</td><td>7.5</td><td>7.5</td><td>8.6</td><td>10.5</td></tr><tr><th>28</th><td>Azerbaijan</td><td>Both sexes</td><td>2.6</td><td>2.7</td><td>3.1</td><td>3.2</td><td>2.2</td></tr><tr><th>29</th><td>Azerbaijan</td><td>Male</td><td>4.2</td><td>4.3</td><td>5.0</td><td>5.2</td><td>3.5</td></tr><tr><th>30</th><td>Azerbaijan</td><td>Female</td><td>1.1</td><td>1.1</td><td>1.2</td><td>1.3</td><td>0.9</td></tr><tr><th>&vellip;</th><td>&vellip;</td><td>&vellip;</td><td>&vellip;</td><td>&vellip;</td><td>&vellip;</td><td>&vellip;</td><td>&vellip;</td></tr></tbody></table>"
      ],
      "text/plain": [
       "549×7 DataFrames.DataFrame\n",
       "│ Row │ Country     │ Sex        │ 2016 │ 2015 │ 2010 │ 2005 │ 2000 │\n",
       "├─────┼─────────────┼────────────┼──────┼──────┼──────┼──────┼──────┤\n",
       "│ 1   │ Afghanistan │ Both sexes │ 4.7  │ 4.8  │ 5.1  │ 6.3  │ 5.7  │\n",
       "│ 2   │ Afghanistan │ Male       │ 7.6  │ 7.8  │ 8.6  │ 10.8 │ 10.0 │\n",
       "│ 3   │ Afghanistan │ Female     │ 1.5  │ 1.5  │ 1.4  │ 1.5  │ 1.0  │\n",
       "│ 4   │ Albania     │ Both sexes │ 6.3  │ 6.0  │ 7.8  │ 6.7  │ 5.5  │\n",
       "│ 5   │ Albania     │ Male       │ 7.9  │ 7.6  │ 9.5  │ 7.7  │ 7.4  │\n",
       "│ 6   │ Albania     │ Female     │ 4.7  │ 4.4  │ 6.1  │ 5.7  │ 3.5  │\n",
       "│ 7   │ Algeria     │ Both sexes │ 3.2  │ 3.2  │ 3.3  │ 3.8  │ 4.1  │\n",
       "│ 8   │ Algeria     │ Male       │ 4.7  │ 4.8  │ 4.9  │ 5.3  │ 5.6  │\n",
       "│ 9   │ Algeria     │ Female     │ 1.7  │ 1.7  │ 1.8  │ 2.2  │ 2.5  │\n",
       "│ 10  │ Angola      │ Both sexes │ 4.7  │ 5.0  │ 5.7  │ 7.2  │ 7.9  │\n",
       "│ 11  │ Angola      │ Male       │ 7.0  │ 7.5  │ 8.7  │ 11.0 │ 11.9 │\n",
       "⋮\n",
       "│ 538 │ Viet Nam    │ Both sexes │ 7.3  │ 7.2  │ 7.0  │ 6.7  │ 6.7  │\n",
       "│ 539 │ Viet Nam    │ Male       │ 10.9 │ 10.8 │ 10.5 │ 10.1 │ 10.0 │\n",
       "│ 540 │ Viet Nam    │ Female     │ 3.7  │ 3.7  │ 3.6  │ 3.5  │ 3.6  │\n",
       "│ 541 │ Yemen       │ Both sexes │ 8.5  │ 8.6  │ 8.8  │ 8.1  │ 6.8  │\n",
       "│ 542 │ Yemen       │ Male       │ 11.3 │ 11.4 │ 11.8 │ 11.0 │ 9.2  │\n",
       "│ 543 │ Yemen       │ Female     │ 5.6  │ 5.7  │ 5.7  │ 5.1  │ 4.2  │\n",
       "│ 544 │ Zambia      │ Both sexes │ 6.1  │ 6.1  │ 6.3  │ 6.5  │ 8.1  │\n",
       "│ 545 │ Zambia      │ Male       │ 8.8  │ 8.7  │ 9.0  │ 9.3  │ 11.8 │\n",
       "│ 546 │ Zambia      │ Female     │ 3.5  │ 3.5  │ 3.6  │ 3.8  │ 4.6  │\n",
       "│ 547 │ Zimbabwe    │ Both sexes │ 10.7 │ 10.6 │ 11.9 │ 13.9 │ 12.9 │\n",
       "│ 548 │ Zimbabwe    │ Male       │ 15.7 │ 15.5 │ 18.1 │ 21.7 │ 20.6 │\n",
       "│ 549 │ Zimbabwe    │ Female     │ 6.0  │ 6.0  │ 6.1  │ 6.4  │ 5.5  │"
      ]
     },
     "execution_count": 82,
     "metadata": {},
     "output_type": "execute_result"
    }
   ],
   "source": [
    "# Read in the suicide estimate data and convert it to a dataframe.\n",
    "suicide_estimates = CSV.read(\"suicide_estimates.csv\", rows_for_type_detect=1000) |> DataFrame"
   ]
  },
  {
   "cell_type": "code",
   "execution_count": 83,
   "metadata": {},
   "outputs": [
    {
     "data": {
      "text/html": [
       "<table class=\"data-frame\"><thead><tr><th></th><th>country</th><th>year</th><th>Life Ladder</th><th>Log_GDP_per_capita</th><th>Social support</th><th>Healthy life expectancy at birth</th><th>Freedom to make life choices</th><th>Generosity</th><th>Perceptions of corruption</th><th>Positive affect</th><th>Negative affect</th></tr></thead><tbody><tr><th>1</th><td>Afghanistan</td><td>2008</td><td>3.72359</td><td>7.197129726</td><td>0.450662315</td><td>47.55043793</td><td>0.718114316</td><td>0.183061942</td><td>0.88168633</td><td>0.517637193</td><td>0.25819549</td></tr><tr><th>2</th><td>Afghanistan</td><td>2009</td><td>4.40178</td><td>7.362664223</td><td>0.55230844</td><td>47.85967255</td><td>0.678896368</td><td>0.204633221</td><td>0.850035429</td><td>0.583925605</td><td>0.23709242</td></tr><tr><th>3</th><td>Afghanistan</td><td>2010</td><td>4.75838</td><td>7.416260242</td><td>0.539075196</td><td>48.15951157</td><td>0.60012722</td><td>0.138528779</td><td>0.706766069</td><td>0.61826545</td><td>0.275323808</td></tr><tr><th>4</th><td>Afghanistan</td><td>2011</td><td>3.83172</td><td>7.445761204</td><td>0.521103561</td><td>48.45116043</td><td>0.495901406</td><td>0.176107883</td><td>0.731108546</td><td>0.611387312</td><td>0.267174691</td></tr><tr><th>5</th><td>Afghanistan</td><td>2012</td><td>3.78294</td><td>7.549240589</td><td>0.520636737</td><td>48.7383461</td><td>0.530935049</td><td>0.247712821</td><td>0.775619805</td><td>0.710384727</td><td>0.267919123</td></tr><tr><th>6</th><td>Afghanistan</td><td>2013</td><td>3.5721</td><td>7.536998749</td><td>0.48355186</td><td>49.02308655</td><td>0.577955365</td><td>0.075185701</td><td>0.8232041</td><td>0.620584846</td><td>0.273328096</td></tr><tr><th>7</th><td>Afghanistan</td><td>2014</td><td>3.1309</td><td>7.519703865</td><td>0.525568426</td><td>49.30581284</td><td>0.508514047</td><td>0.118933707</td><td>0.871241987</td><td>0.531691492</td><td>0.374860734</td></tr><tr><th>8</th><td>Afghanistan</td><td>2015</td><td>3.98285</td><td>7.506759167</td><td>0.528597236</td><td>49.58853912</td><td>0.388927579</td><td>0.094635032</td><td>0.880638301</td><td>0.553553164</td><td>0.339276046</td></tr><tr><th>9</th><td>Afghanistan</td><td>2016</td><td>4.22017</td><td>7.49728775</td><td>0.559071779</td><td>49.87126541</td><td>0.522566199</td><td>0.057393152</td><td>0.793245554</td><td>0.564952672</td><td>0.348332286</td></tr><tr><th>10</th><td>Albania</td><td>2007</td><td>4.63425</td><td>8.984321594</td><td>0.821371615</td><td>67.16985321</td><td>0.528604746</td><td>-0.007585163</td><td>0.874699533</td><td>0.552677572</td><td>0.24633503</td></tr><tr><th>11</th><td>Albania</td><td>2009</td><td>5.48547</td><td>9.10428524</td><td>0.833046615</td><td>67.49491882</td><td>0.525223255</td><td>-0.157199129</td><td>0.863665402</td><td>0.640023768</td><td>0.279256523</td></tr><tr><th>12</th><td>Albania</td><td>2010</td><td>5.26894</td><td>9.14567852</td><td>0.73315227</td><td>67.66759491</td><td>0.568958402</td><td>-0.171882138</td><td>0.726261675</td><td>0.647908092</td><td>0.300060242</td></tr><tr><th>13</th><td>Albania</td><td>2011</td><td>5.86742</td><td>9.17369175</td><td>0.759433806</td><td>67.84645844</td><td>0.487496257</td><td>-0.204585373</td><td>0.877002597</td><td>0.627659321</td><td>0.256576508</td></tr><tr><th>14</th><td>Albania</td><td>2012</td><td>5.51012</td><td>9.189352989</td><td>0.784501791</td><td>68.02511597</td><td>0.601512134</td><td>-0.1689623</td><td>0.847675204</td><td>0.606635928</td><td>0.271393239</td></tr><tr><th>15</th><td>Albania</td><td>2013</td><td>4.55065</td><td>9.2016325</td><td>0.759476721</td><td>68.19770813</td><td>0.631830275</td><td>-0.127432793</td><td>0.862904966</td><td>0.633608878</td><td>0.338378578</td></tr><tr><th>16</th><td>Albania</td><td>2014</td><td>4.81376</td><td>9.222470284</td><td>0.625586927</td><td>68.36459351</td><td>0.734648407</td><td>-0.025123492</td><td>0.882704437</td><td>0.684910536</td><td>0.334542662</td></tr><tr><th>17</th><td>Albania</td><td>2015</td><td>4.60665</td><td>9.249300003</td><td>0.639356136</td><td>68.53148651</td><td>0.703850687</td><td>-0.081631474</td><td>0.884793043</td><td>0.688370049</td><td>0.350426674</td></tr><tr><th>18</th><td>Albania</td><td>2016</td><td>4.5111</td><td>9.282299995</td><td>0.638411462</td><td>68.69837952</td><td>0.72981894</td><td>-0.017927289</td><td>0.901070774</td><td>0.675243735</td><td>0.321705997</td></tr><tr><th>19</th><td>Algeria</td><td>2010</td><td>5.46357</td><td>9.464850426</td><td>NA</td><td>63.55348587</td><td>0.592695832</td><td>-0.231347829</td><td>0.618037879</td><td>NA</td><td>NA</td></tr><tr><th>20</th><td>Algeria</td><td>2011</td><td>5.31719</td><td>9.47471714</td><td>0.810234487</td><td>63.78250122</td><td>0.529561281</td><td>-0.206761301</td><td>0.637981653</td><td>0.550203383</td><td>0.254896641</td></tr><tr><th>21</th><td>Algeria</td><td>2012</td><td>5.6046</td><td>9.488671303</td><td>0.839396894</td><td>64.00130463</td><td>0.586663485</td><td>-0.198333636</td><td>0.690116346</td><td>0.604023278</td><td>0.22971566</td></tr><tr><th>22</th><td>Algeria</td><td>2014</td><td>6.3549</td><td>9.514430046</td><td>0.818189442</td><td>64.41808319</td><td>NA</td><td>NA</td><td>NA</td><td>0.62590462</td><td>0.176866099</td></tr><tr><th>23</th><td>Algeria</td><td>2016</td><td>5.38817</td><td>9.549138069</td><td>0.748149693</td><td>64.82994843</td><td>NA</td><td>NA</td><td>NA</td><td>0.668838143</td><td>0.371372014</td></tr><tr><th>24</th><td>Angola</td><td>2011</td><td>5.589</td><td>8.783316612</td><td>0.723094344</td><td>44.05117416</td><td>0.583701789</td><td>0.058454342</td><td>0.911320329</td><td>0.658646524</td><td>0.361063153</td></tr><tr><th>25</th><td>Angola</td><td>2012</td><td>4.36025</td><td>8.800270081</td><td>0.752592862</td><td>44.40031433</td><td>0.456028581</td><td>-0.130923137</td><td>0.906300485</td><td>0.557908118</td><td>0.304890066</td></tr><tr><th>26</th><td>Angola</td><td>2013</td><td>3.93711</td><td>8.833123207</td><td>0.721590757</td><td>44.74728394</td><td>0.409554869</td><td>-0.100076638</td><td>0.816375494</td><td>0.65828377</td><td>0.370875001</td></tr><tr><th>27</th><td>Angola</td><td>2014</td><td>3.79484</td><td>8.847353935</td><td>0.754615486</td><td>45.09299469</td><td>0.374541551</td><td>-0.164495498</td><td>0.83407563</td><td>0.578517139</td><td>0.367864132</td></tr><tr><th>28</th><td>Argentina</td><td>2006</td><td>6.31293</td><td>9.520736694</td><td>0.938462794</td><td>65.98609924</td><td>0.733003676</td><td>-0.140367165</td><td>0.851799488</td><td>0.824682415</td><td>0.328230023</td></tr><tr><th>29</th><td>Argentina</td><td>2007</td><td>6.07316</td><td>9.594051361</td><td>0.862205565</td><td>66.12639618</td><td>0.652832627</td><td>-0.124788955</td><td>0.881057739</td><td>0.827919722</td><td>0.279007971</td></tr><tr><th>30</th><td>Argentina</td><td>2008</td><td>5.96103</td><td>9.65069294</td><td>0.89219451</td><td>66.26499939</td><td>0.678222179</td><td>-0.117866933</td><td>0.864996254</td><td>0.823408544</td><td>0.318222284</td></tr><tr><th>&vellip;</th><td>&vellip;</td><td>&vellip;</td><td>&vellip;</td><td>&vellip;</td><td>&vellip;</td><td>&vellip;</td><td>&vellip;</td><td>&vellip;</td><td>&vellip;</td><td>&vellip;</td><td>&vellip;</td></tr></tbody></table>"
      ],
      "text/plain": [
       "1420×11 DataFrames.DataFrame. Omitted printing of 7 columns\n",
       "│ Row  │ country     │ year │ Life Ladder │ Log_GDP_per_capita │\n",
       "├──────┼─────────────┼──────┼─────────────┼────────────────────┤\n",
       "│ 1    │ Afghanistan │ 2008 │ 3.72359     │ 7.197129726        │\n",
       "│ 2    │ Afghanistan │ 2009 │ 4.40178     │ 7.362664223        │\n",
       "│ 3    │ Afghanistan │ 2010 │ 4.75838     │ 7.416260242        │\n",
       "│ 4    │ Afghanistan │ 2011 │ 3.83172     │ 7.445761204        │\n",
       "│ 5    │ Afghanistan │ 2012 │ 3.78294     │ 7.549240589        │\n",
       "│ 6    │ Afghanistan │ 2013 │ 3.5721      │ 7.536998749        │\n",
       "│ 7    │ Afghanistan │ 2014 │ 3.1309      │ 7.519703865        │\n",
       "│ 8    │ Afghanistan │ 2015 │ 3.98285     │ 7.506759167        │\n",
       "│ 9    │ Afghanistan │ 2016 │ 4.22017     │ 7.49728775         │\n",
       "│ 10   │ Albania     │ 2007 │ 4.63425     │ 8.984321594        │\n",
       "│ 11   │ Albania     │ 2009 │ 5.48547     │ 9.10428524         │\n",
       "⋮\n",
       "│ 1409 │ Zambia      │ 2016 │ 4.34754     │ 8.198633194        │\n",
       "│ 1410 │ Zimbabwe    │ 2006 │ 3.82627     │ 7.364544392        │\n",
       "│ 1411 │ Zimbabwe    │ 2007 │ 3.28025     │ 7.314471722        │\n",
       "│ 1412 │ Zimbabwe    │ 2008 │ 3.17426     │ 7.105294704        │\n",
       "│ 1413 │ Zimbabwe    │ 2009 │ 4.05591     │ 7.146842957        │\n",
       "│ 1414 │ Zimbabwe    │ 2010 │ 4.68157     │ 7.236320019        │\n",
       "│ 1415 │ Zimbabwe    │ 2011 │ 4.84564     │ 7.328845501        │\n",
       "│ 1416 │ Zimbabwe    │ 2012 │ 4.9551      │ 7.407775402        │\n",
       "│ 1417 │ Zimbabwe    │ 2013 │ 4.69019     │ 7.429061413        │\n",
       "│ 1418 │ Zimbabwe    │ 2014 │ 4.18445     │ 7.443747997        │\n",
       "│ 1419 │ Zimbabwe    │ 2015 │ 3.70319     │ 7.431285381        │\n",
       "│ 1420 │ Zimbabwe    │ 2016 │ 3.7354      │ 7.422307968        │"
      ]
     },
     "execution_count": 83,
     "metadata": {},
     "output_type": "execute_result"
    }
   ],
   "source": [
    "# Read in the world happiness report data and convert it to a dataframe.\n",
    "world_happiness = CSV.read(\"world_happiness.csv\"; header=true, rows_for_type_detect=1000) |> DataFrame"
   ]
  },
  {
   "cell_type": "code",
   "execution_count": 84,
   "metadata": {},
   "outputs": [
    {
     "data": {
      "text/html": [
       "<table class=\"data-frame\"><thead><tr><th></th><th>variable</th><th>mean</th><th>min</th><th>median</th><th>max</th><th>nunique</th><th>nmissing</th><th>eltype</th></tr></thead><tbody><tr><th>1</th><td>Country</td><td></td><td></td><td></td><td></td><td>183</td><td>0</td><td>CategoricalArrays.CategoricalString{UInt32}</td></tr><tr><th>2</th><td>Sex</td><td></td><td></td><td></td><td></td><td>3</td><td>0</td><td>CategoricalArrays.CategoricalString{UInt32}</td></tr><tr><th>3</th><td>2016</td><td>9.30984</td><td>0.0</td><td>7.2</td><td>58.1</td><td></td><td>0</td><td>Float64</td></tr><tr><th>4</th><td>2015</td><td>9.42186</td><td>0.0</td><td>7.3</td><td>61.7</td><td></td><td>0</td><td>Float64</td></tr><tr><th>5</th><td>2010</td><td>9.89654</td><td>0.0</td><td>7.3</td><td>71.7</td><td></td><td>0</td><td>Float64</td></tr><tr><th>6</th><td>2005</td><td>10.4102</td><td>0.0</td><td>7.6</td><td>92.5</td><td></td><td>0</td><td>Float64</td></tr><tr><th>7</th><td>2000</td><td>10.9077</td><td>0.1</td><td>7.7</td><td>93.5</td><td></td><td>0</td><td>Float64</td></tr></tbody></table>"
      ],
      "text/plain": [
       "7×8 DataFrames.DataFrame. Omitted printing of 1 columns\n",
       "│ Row │ variable │ mean    │ min │ median │ max  │ nunique │ nmissing │\n",
       "├─────┼──────────┼─────────┼─────┼────────┼──────┼─────────┼──────────┤\n",
       "│ 1   │ Country  │         │     │        │      │ 183     │ 0        │\n",
       "│ 2   │ Sex      │         │     │        │      │ 3       │ 0        │\n",
       "│ 3   │ 2016     │ 9.30984 │ 0.0 │ 7.2    │ 58.1 │         │ 0        │\n",
       "│ 4   │ 2015     │ 9.42186 │ 0.0 │ 7.3    │ 61.7 │         │ 0        │\n",
       "│ 5   │ 2010     │ 9.89654 │ 0.0 │ 7.3    │ 71.7 │         │ 0        │\n",
       "│ 6   │ 2005     │ 10.4102 │ 0.0 │ 7.6    │ 92.5 │         │ 0        │\n",
       "│ 7   │ 2000     │ 10.9077 │ 0.1 │ 7.7    │ 93.5 │         │ 0        │"
      ]
     },
     "execution_count": 84,
     "metadata": {},
     "output_type": "execute_result"
    }
   ],
   "source": [
    "# Summarise the suicide estimates data to see the types of columns and missing values.\n",
    "suicide_estimates |>\n",
    "  describe"
   ]
  },
  {
   "cell_type": "code",
   "execution_count": 85,
   "metadata": {},
   "outputs": [
    {
     "data": {
      "text/html": [
       "<table class=\"data-frame\"><thead><tr><th></th><th>variable</th><th>mean</th><th>min</th><th>median</th><th>max</th><th>nunique</th><th>nmissing</th><th>eltype</th></tr></thead><tbody><tr><th>1</th><td>country</td><td></td><td></td><td></td><td></td><td>164</td><td>0</td><td>CategoricalArrays.CategoricalString{UInt32}</td></tr><tr><th>2</th><td>year</td><td>2011.3</td><td>2005</td><td>2011.0</td><td>2016</td><td></td><td>0</td><td>Int64</td></tr><tr><th>3</th><td>Life Ladder</td><td>5.42857</td><td>2.68755</td><td>5.31744</td><td>8.01893</td><td></td><td>0</td><td>Float64</td></tr><tr><th>4</th><td>Log_GDP_per_capita</td><td></td><td>10.00054455</td><td></td><td>NA</td><td>1386</td><td>0</td><td>String</td></tr><tr><th>5</th><td>Social support</td><td></td><td>0.29018417</td><td></td><td>NA</td><td>1409</td><td>0</td><td>String</td></tr><tr><th>6</th><td>Healthy life expectancy at birth</td><td></td><td>36.16766739</td><td></td><td>NA</td><td>1367</td><td>0</td><td>String</td></tr><tr><th>7</th><td>Freedom to make life choices</td><td></td><td>0.257533818</td><td></td><td>NA</td><td>1387</td><td>0</td><td>String</td></tr><tr><th>8</th><td>Generosity</td><td></td><td>-0.000425956</td><td></td><td>NA</td><td>1329</td><td>0</td><td>String</td></tr><tr><th>9</th><td>Perceptions of corruption</td><td></td><td>0.035197988</td><td></td><td>NA</td><td>1337</td><td>0</td><td>String</td></tr><tr><th>10</th><td>Positive affect</td><td></td><td>0.362497687</td><td></td><td>NA</td><td>1404</td><td>0</td><td>String</td></tr><tr><th>11</th><td>Negative affect</td><td></td><td>0.08342576</td><td></td><td>NA</td><td>1410</td><td>0</td><td>String</td></tr></tbody></table>"
      ],
      "text/plain": [
       "11×8 DataFrames.DataFrame. Omitted printing of 4 columns\n",
       "│ Row │ variable                         │ mean    │ min          │ median  │\n",
       "├─────┼──────────────────────────────────┼─────────┼──────────────┼─────────┤\n",
       "│ 1   │ country                          │         │              │         │\n",
       "│ 2   │ year                             │ 2011.3  │ 2005         │ 2011.0  │\n",
       "│ 3   │ Life Ladder                      │ 5.42857 │ 2.68755      │ 5.31744 │\n",
       "│ 4   │ Log_GDP_per_capita               │         │ 10.00054455  │         │\n",
       "│ 5   │ Social support                   │         │ 0.29018417   │         │\n",
       "│ 6   │ Healthy life expectancy at birth │         │ 36.16766739  │         │\n",
       "│ 7   │ Freedom to make life choices     │         │ 0.257533818  │         │\n",
       "│ 8   │ Generosity                       │         │ -0.000425956 │         │\n",
       "│ 9   │ Perceptions of corruption        │         │ 0.035197988  │         │\n",
       "│ 10  │ Positive affect                  │         │ 0.362497687  │         │\n",
       "│ 11  │ Negative affect                  │         │ 0.08342576   │         │"
      ]
     },
     "execution_count": 85,
     "metadata": {},
     "output_type": "execute_result"
    }
   ],
   "source": [
    "# Summarise the world happiness report data to see the types of columns and missing values.\n",
    "world_happiness |>\n",
    "  describe"
   ]
  },
  {
   "cell_type": "code",
   "execution_count": 86,
   "metadata": {},
   "outputs": [
    {
     "data": {
      "text/html": [
       "<table class=\"data-frame\"><thead><tr><th></th><th>Country</th><th>year</th><th>Life Ladder</th><th>GDP</th><th>Social support</th><th>Healthy life expectancy at birth</th><th>Freedom to make life choices</th><th>Generosity</th><th>Perceptions of corruption</th><th>Positive affect</th><th>Negative affect</th></tr></thead><tbody><tr><th>1</th><td>Afghanistan</td><td>2008</td><td>3.72359</td><td>7.197129726</td><td>0.450662315</td><td>47.55043793</td><td>0.718114316</td><td>0.183061942</td><td>0.88168633</td><td>0.517637193</td><td>0.25819549</td></tr><tr><th>2</th><td>Afghanistan</td><td>2009</td><td>4.40178</td><td>7.362664223</td><td>0.55230844</td><td>47.85967255</td><td>0.678896368</td><td>0.204633221</td><td>0.850035429</td><td>0.583925605</td><td>0.23709242</td></tr><tr><th>3</th><td>Afghanistan</td><td>2010</td><td>4.75838</td><td>7.416260242</td><td>0.539075196</td><td>48.15951157</td><td>0.60012722</td><td>0.138528779</td><td>0.706766069</td><td>0.61826545</td><td>0.275323808</td></tr><tr><th>4</th><td>Afghanistan</td><td>2011</td><td>3.83172</td><td>7.445761204</td><td>0.521103561</td><td>48.45116043</td><td>0.495901406</td><td>0.176107883</td><td>0.731108546</td><td>0.611387312</td><td>0.267174691</td></tr><tr><th>5</th><td>Afghanistan</td><td>2012</td><td>3.78294</td><td>7.549240589</td><td>0.520636737</td><td>48.7383461</td><td>0.530935049</td><td>0.247712821</td><td>0.775619805</td><td>0.710384727</td><td>0.267919123</td></tr><tr><th>6</th><td>Afghanistan</td><td>2013</td><td>3.5721</td><td>7.536998749</td><td>0.48355186</td><td>49.02308655</td><td>0.577955365</td><td>0.075185701</td><td>0.8232041</td><td>0.620584846</td><td>0.273328096</td></tr><tr><th>7</th><td>Afghanistan</td><td>2014</td><td>3.1309</td><td>7.519703865</td><td>0.525568426</td><td>49.30581284</td><td>0.508514047</td><td>0.118933707</td><td>0.871241987</td><td>0.531691492</td><td>0.374860734</td></tr><tr><th>8</th><td>Afghanistan</td><td>2015</td><td>3.98285</td><td>7.506759167</td><td>0.528597236</td><td>49.58853912</td><td>0.388927579</td><td>0.094635032</td><td>0.880638301</td><td>0.553553164</td><td>0.339276046</td></tr><tr><th>9</th><td>Afghanistan</td><td>2016</td><td>4.22017</td><td>7.49728775</td><td>0.559071779</td><td>49.87126541</td><td>0.522566199</td><td>0.057393152</td><td>0.793245554</td><td>0.564952672</td><td>0.348332286</td></tr><tr><th>10</th><td>Albania</td><td>2007</td><td>4.63425</td><td>8.984321594</td><td>0.821371615</td><td>67.16985321</td><td>0.528604746</td><td>-0.007585163</td><td>0.874699533</td><td>0.552677572</td><td>0.24633503</td></tr><tr><th>11</th><td>Albania</td><td>2009</td><td>5.48547</td><td>9.10428524</td><td>0.833046615</td><td>67.49491882</td><td>0.525223255</td><td>-0.157199129</td><td>0.863665402</td><td>0.640023768</td><td>0.279256523</td></tr><tr><th>12</th><td>Albania</td><td>2010</td><td>5.26894</td><td>9.14567852</td><td>0.73315227</td><td>67.66759491</td><td>0.568958402</td><td>-0.171882138</td><td>0.726261675</td><td>0.647908092</td><td>0.300060242</td></tr><tr><th>13</th><td>Albania</td><td>2011</td><td>5.86742</td><td>9.17369175</td><td>0.759433806</td><td>67.84645844</td><td>0.487496257</td><td>-0.204585373</td><td>0.877002597</td><td>0.627659321</td><td>0.256576508</td></tr><tr><th>14</th><td>Albania</td><td>2012</td><td>5.51012</td><td>9.189352989</td><td>0.784501791</td><td>68.02511597</td><td>0.601512134</td><td>-0.1689623</td><td>0.847675204</td><td>0.606635928</td><td>0.271393239</td></tr><tr><th>15</th><td>Albania</td><td>2013</td><td>4.55065</td><td>9.2016325</td><td>0.759476721</td><td>68.19770813</td><td>0.631830275</td><td>-0.127432793</td><td>0.862904966</td><td>0.633608878</td><td>0.338378578</td></tr><tr><th>16</th><td>Albania</td><td>2014</td><td>4.81376</td><td>9.222470284</td><td>0.625586927</td><td>68.36459351</td><td>0.734648407</td><td>-0.025123492</td><td>0.882704437</td><td>0.684910536</td><td>0.334542662</td></tr><tr><th>17</th><td>Albania</td><td>2015</td><td>4.60665</td><td>9.249300003</td><td>0.639356136</td><td>68.53148651</td><td>0.703850687</td><td>-0.081631474</td><td>0.884793043</td><td>0.688370049</td><td>0.350426674</td></tr><tr><th>18</th><td>Albania</td><td>2016</td><td>4.5111</td><td>9.282299995</td><td>0.638411462</td><td>68.69837952</td><td>0.72981894</td><td>-0.017927289</td><td>0.901070774</td><td>0.675243735</td><td>0.321705997</td></tr><tr><th>19</th><td>Algeria</td><td>2010</td><td>5.46357</td><td>9.464850426</td><td>NA</td><td>63.55348587</td><td>0.592695832</td><td>-0.231347829</td><td>0.618037879</td><td>NA</td><td>NA</td></tr><tr><th>20</th><td>Algeria</td><td>2011</td><td>5.31719</td><td>9.47471714</td><td>0.810234487</td><td>63.78250122</td><td>0.529561281</td><td>-0.206761301</td><td>0.637981653</td><td>0.550203383</td><td>0.254896641</td></tr><tr><th>21</th><td>Algeria</td><td>2012</td><td>5.6046</td><td>9.488671303</td><td>0.839396894</td><td>64.00130463</td><td>0.586663485</td><td>-0.198333636</td><td>0.690116346</td><td>0.604023278</td><td>0.22971566</td></tr><tr><th>22</th><td>Algeria</td><td>2014</td><td>6.3549</td><td>9.514430046</td><td>0.818189442</td><td>64.41808319</td><td>NA</td><td>NA</td><td>NA</td><td>0.62590462</td><td>0.176866099</td></tr><tr><th>23</th><td>Algeria</td><td>2016</td><td>5.38817</td><td>9.549138069</td><td>0.748149693</td><td>64.82994843</td><td>NA</td><td>NA</td><td>NA</td><td>0.668838143</td><td>0.371372014</td></tr><tr><th>24</th><td>Angola</td><td>2011</td><td>5.589</td><td>8.783316612</td><td>0.723094344</td><td>44.05117416</td><td>0.583701789</td><td>0.058454342</td><td>0.911320329</td><td>0.658646524</td><td>0.361063153</td></tr><tr><th>25</th><td>Angola</td><td>2012</td><td>4.36025</td><td>8.800270081</td><td>0.752592862</td><td>44.40031433</td><td>0.456028581</td><td>-0.130923137</td><td>0.906300485</td><td>0.557908118</td><td>0.304890066</td></tr><tr><th>26</th><td>Angola</td><td>2013</td><td>3.93711</td><td>8.833123207</td><td>0.721590757</td><td>44.74728394</td><td>0.409554869</td><td>-0.100076638</td><td>0.816375494</td><td>0.65828377</td><td>0.370875001</td></tr><tr><th>27</th><td>Angola</td><td>2014</td><td>3.79484</td><td>8.847353935</td><td>0.754615486</td><td>45.09299469</td><td>0.374541551</td><td>-0.164495498</td><td>0.83407563</td><td>0.578517139</td><td>0.367864132</td></tr><tr><th>28</th><td>Argentina</td><td>2006</td><td>6.31293</td><td>9.520736694</td><td>0.938462794</td><td>65.98609924</td><td>0.733003676</td><td>-0.140367165</td><td>0.851799488</td><td>0.824682415</td><td>0.328230023</td></tr><tr><th>29</th><td>Argentina</td><td>2007</td><td>6.07316</td><td>9.594051361</td><td>0.862205565</td><td>66.12639618</td><td>0.652832627</td><td>-0.124788955</td><td>0.881057739</td><td>0.827919722</td><td>0.279007971</td></tr><tr><th>30</th><td>Argentina</td><td>2008</td><td>5.96103</td><td>9.65069294</td><td>0.89219451</td><td>66.26499939</td><td>0.678222179</td><td>-0.117866933</td><td>0.864996254</td><td>0.823408544</td><td>0.318222284</td></tr><tr><th>&vellip;</th><td>&vellip;</td><td>&vellip;</td><td>&vellip;</td><td>&vellip;</td><td>&vellip;</td><td>&vellip;</td><td>&vellip;</td><td>&vellip;</td><td>&vellip;</td><td>&vellip;</td><td>&vellip;</td></tr></tbody></table>"
      ],
      "text/plain": [
       "1420×11 DataFrames.DataFrame. Omitted printing of 6 columns\n",
       "│ Row  │ Country     │ year │ Life Ladder │ GDP         │ Social support │\n",
       "├──────┼─────────────┼──────┼─────────────┼─────────────┼────────────────┤\n",
       "│ 1    │ Afghanistan │ 2008 │ 3.72359     │ 7.197129726 │ 0.450662315    │\n",
       "│ 2    │ Afghanistan │ 2009 │ 4.40178     │ 7.362664223 │ 0.55230844     │\n",
       "│ 3    │ Afghanistan │ 2010 │ 4.75838     │ 7.416260242 │ 0.539075196    │\n",
       "│ 4    │ Afghanistan │ 2011 │ 3.83172     │ 7.445761204 │ 0.521103561    │\n",
       "│ 5    │ Afghanistan │ 2012 │ 3.78294     │ 7.549240589 │ 0.520636737    │\n",
       "│ 6    │ Afghanistan │ 2013 │ 3.5721      │ 7.536998749 │ 0.48355186     │\n",
       "│ 7    │ Afghanistan │ 2014 │ 3.1309      │ 7.519703865 │ 0.525568426    │\n",
       "│ 8    │ Afghanistan │ 2015 │ 3.98285     │ 7.506759167 │ 0.528597236    │\n",
       "│ 9    │ Afghanistan │ 2016 │ 4.22017     │ 7.49728775  │ 0.559071779    │\n",
       "│ 10   │ Albania     │ 2007 │ 4.63425     │ 8.984321594 │ 0.821371615    │\n",
       "│ 11   │ Albania     │ 2009 │ 5.48547     │ 9.10428524  │ 0.833046615    │\n",
       "⋮\n",
       "│ 1409 │ Zambia      │ 2016 │ 4.34754     │ 8.198633194 │ 0.76704663     │\n",
       "│ 1410 │ Zimbabwe    │ 2006 │ 3.82627     │ 7.364544392 │ 0.821655512    │\n",
       "│ 1411 │ Zimbabwe    │ 2007 │ 3.28025     │ 7.314471722 │ 0.828113437    │\n",
       "│ 1412 │ Zimbabwe    │ 2008 │ 3.17426     │ 7.105294704 │ 0.843474507    │\n",
       "│ 1413 │ Zimbabwe    │ 2009 │ 4.05591     │ 7.146842957 │ 0.805780947    │\n",
       "│ 1414 │ Zimbabwe    │ 2010 │ 4.68157     │ 7.236320019 │ 0.856637836    │\n",
       "│ 1415 │ Zimbabwe    │ 2011 │ 4.84564     │ 7.328845501 │ 0.864693522    │\n",
       "│ 1416 │ Zimbabwe    │ 2012 │ 4.9551      │ 7.407775402 │ 0.896476209    │\n",
       "│ 1417 │ Zimbabwe    │ 2013 │ 4.69019     │ 7.429061413 │ 0.799273849    │\n",
       "│ 1418 │ Zimbabwe    │ 2014 │ 4.18445     │ 7.443747997 │ 0.765838981    │\n",
       "│ 1419 │ Zimbabwe    │ 2015 │ 3.70319     │ 7.431285381 │ 0.735800326    │\n",
       "│ 1420 │ Zimbabwe    │ 2016 │ 3.7354      │ 7.422307968 │ 0.768425405    │"
      ]
     },
     "execution_count": 86,
     "metadata": {},
     "output_type": "execute_result"
    }
   ],
   "source": [
    "# Rename the columns in the world happiness dataframe for easier merging and referencing.\n",
    "rename!(world_happiness, f => t for (f, t) = zip([:country, :Log_GDP_per_capita], [:Country, :GDP]))"
   ]
  },
  {
   "cell_type": "code",
   "execution_count": 87,
   "metadata": {},
   "outputs": [
    {
     "data": {
      "text/html": [
       "<table class=\"data-frame\"><thead><tr><th></th><th>year</th><th>value</th><th>Country</th><th>Sex</th></tr></thead><tbody><tr><th>1</th><td>2016</td><td>4.7</td><td>Afghanistan</td><td>Both sexes</td></tr><tr><th>2</th><td>2016</td><td>7.6</td><td>Afghanistan</td><td>Male</td></tr><tr><th>3</th><td>2016</td><td>1.5</td><td>Afghanistan</td><td>Female</td></tr><tr><th>4</th><td>2016</td><td>6.3</td><td>Albania</td><td>Both sexes</td></tr><tr><th>5</th><td>2016</td><td>7.9</td><td>Albania</td><td>Male</td></tr><tr><th>6</th><td>2016</td><td>4.7</td><td>Albania</td><td>Female</td></tr><tr><th>7</th><td>2016</td><td>3.2</td><td>Algeria</td><td>Both sexes</td></tr><tr><th>8</th><td>2016</td><td>4.7</td><td>Algeria</td><td>Male</td></tr><tr><th>9</th><td>2016</td><td>1.7</td><td>Algeria</td><td>Female</td></tr><tr><th>10</th><td>2016</td><td>4.7</td><td>Angola</td><td>Both sexes</td></tr><tr><th>11</th><td>2016</td><td>7.0</td><td>Angola</td><td>Male</td></tr><tr><th>12</th><td>2016</td><td>2.5</td><td>Angola</td><td>Female</td></tr><tr><th>13</th><td>2016</td><td>0.5</td><td>Antigua and Barbuda</td><td>Both sexes</td></tr><tr><th>14</th><td>2016</td><td>0.0</td><td>Antigua and Barbuda</td><td>Male</td></tr><tr><th>15</th><td>2016</td><td>0.9</td><td>Antigua and Barbuda</td><td>Female</td></tr><tr><th>16</th><td>2016</td><td>9.2</td><td>Argentina</td><td>Both sexes</td></tr><tr><th>17</th><td>2016</td><td>15.1</td><td>Argentina</td><td>Male</td></tr><tr><th>18</th><td>2016</td><td>3.5</td><td>Argentina</td><td>Female</td></tr><tr><th>19</th><td>2016</td><td>6.6</td><td>Armenia</td><td>Both sexes</td></tr><tr><th>20</th><td>2016</td><td>10.8</td><td>Armenia</td><td>Male</td></tr><tr><th>21</th><td>2016</td><td>2.8</td><td>Armenia</td><td>Female</td></tr><tr><th>22</th><td>2016</td><td>13.2</td><td>Australia</td><td>Both sexes</td></tr><tr><th>23</th><td>2016</td><td>19.5</td><td>Australia</td><td>Male</td></tr><tr><th>24</th><td>2016</td><td>7.0</td><td>Australia</td><td>Female</td></tr><tr><th>25</th><td>2016</td><td>15.6</td><td>Austria</td><td>Both sexes</td></tr><tr><th>26</th><td>2016</td><td>23.9</td><td>Austria</td><td>Male</td></tr><tr><th>27</th><td>2016</td><td>7.7</td><td>Austria</td><td>Female</td></tr><tr><th>28</th><td>2016</td><td>2.6</td><td>Azerbaijan</td><td>Both sexes</td></tr><tr><th>29</th><td>2016</td><td>4.2</td><td>Azerbaijan</td><td>Male</td></tr><tr><th>30</th><td>2016</td><td>1.1</td><td>Azerbaijan</td><td>Female</td></tr><tr><th>&vellip;</th><td>&vellip;</td><td>&vellip;</td><td>&vellip;</td><td>&vellip;</td></tr></tbody></table>"
      ],
      "text/plain": [
       "2745×4 DataFrames.DataFrame\n",
       "│ Row  │ year │ value │ Country     │ Sex        │\n",
       "├──────┼──────┼───────┼─────────────┼────────────┤\n",
       "│ 1    │ 2016 │ 4.7   │ Afghanistan │ Both sexes │\n",
       "│ 2    │ 2016 │ 7.6   │ Afghanistan │ Male       │\n",
       "│ 3    │ 2016 │ 1.5   │ Afghanistan │ Female     │\n",
       "│ 4    │ 2016 │ 6.3   │ Albania     │ Both sexes │\n",
       "│ 5    │ 2016 │ 7.9   │ Albania     │ Male       │\n",
       "│ 6    │ 2016 │ 4.7   │ Albania     │ Female     │\n",
       "│ 7    │ 2016 │ 3.2   │ Algeria     │ Both sexes │\n",
       "│ 8    │ 2016 │ 4.7   │ Algeria     │ Male       │\n",
       "│ 9    │ 2016 │ 1.7   │ Algeria     │ Female     │\n",
       "│ 10   │ 2016 │ 4.7   │ Angola      │ Both sexes │\n",
       "│ 11   │ 2016 │ 7.0   │ Angola      │ Male       │\n",
       "⋮\n",
       "│ 2734 │ 2000 │ 6.7   │ Viet Nam    │ Both sexes │\n",
       "│ 2735 │ 2000 │ 10.0  │ Viet Nam    │ Male       │\n",
       "│ 2736 │ 2000 │ 3.6   │ Viet Nam    │ Female     │\n",
       "│ 2737 │ 2000 │ 6.8   │ Yemen       │ Both sexes │\n",
       "│ 2738 │ 2000 │ 9.2   │ Yemen       │ Male       │\n",
       "│ 2739 │ 2000 │ 4.2   │ Yemen       │ Female     │\n",
       "│ 2740 │ 2000 │ 8.1   │ Zambia      │ Both sexes │\n",
       "│ 2741 │ 2000 │ 11.8  │ Zambia      │ Male       │\n",
       "│ 2742 │ 2000 │ 4.6   │ Zambia      │ Female     │\n",
       "│ 2743 │ 2000 │ 12.9  │ Zimbabwe    │ Both sexes │\n",
       "│ 2744 │ 2000 │ 20.6  │ Zimbabwe    │ Male       │\n",
       "│ 2745 │ 2000 │ 5.5   │ Zimbabwe    │ Female     │"
      ]
     },
     "execution_count": 87,
     "metadata": {},
     "output_type": "execute_result"
    }
   ],
   "source": [
    "# Convert the suicide estimates dataframe to a long format by combining the year columns into one single year.\n",
    "suicide_long = melt(suicide_estimates, [:Country, :Sex], names(suicide_estimates)[3:end] , variable_name=:year, value_name=:value)"
   ]
  },
  {
   "cell_type": "code",
   "execution_count": 88,
   "metadata": {},
   "outputs": [],
   "source": [
    "# Convert the year column in the suicide data to a string so it can be merged.\n",
    "suicide_long[:year] = string.(suicide_long[:year]) ;"
   ]
  },
  {
   "cell_type": "code",
   "execution_count": 89,
   "metadata": {},
   "outputs": [],
   "source": [
    "# Convert the year column in the world happiness data to a string so it can be merged.\n",
    "world_happiness[:year] = string.(world_happiness[:year]) ;"
   ]
  },
  {
   "cell_type": "code",
   "execution_count": 90,
   "metadata": {},
   "outputs": [
    {
     "data": {
      "text/html": [
       "<table class=\"data-frame\"><thead><tr><th></th><th>year</th><th>value</th><th>Country</th><th>Sex</th><th>Life Ladder</th><th>GDP</th><th>Social support</th><th>Healthy life expectancy at birth</th><th>Freedom to make life choices</th><th>Generosity</th><th>Perceptions of corruption</th><th>Positive affect</th><th>Negative affect</th></tr></thead><tbody><tr><th>1</th><td>2016</td><td>4.7</td><td>Afghanistan</td><td>Both sexes</td><td>4.22017</td><td>7.49728775</td><td>0.559071779</td><td>49.87126541</td><td>0.522566199</td><td>0.057393152</td><td>0.793245554</td><td>0.564952672</td><td>0.348332286</td></tr><tr><th>2</th><td>2016</td><td>7.6</td><td>Afghanistan</td><td>Male</td><td>4.22017</td><td>7.49728775</td><td>0.559071779</td><td>49.87126541</td><td>0.522566199</td><td>0.057393152</td><td>0.793245554</td><td>0.564952672</td><td>0.348332286</td></tr><tr><th>3</th><td>2016</td><td>1.5</td><td>Afghanistan</td><td>Female</td><td>4.22017</td><td>7.49728775</td><td>0.559071779</td><td>49.87126541</td><td>0.522566199</td><td>0.057393152</td><td>0.793245554</td><td>0.564952672</td><td>0.348332286</td></tr><tr><th>4</th><td>2016</td><td>6.3</td><td>Albania</td><td>Both sexes</td><td>4.5111</td><td>9.282299995</td><td>0.638411462</td><td>68.69837952</td><td>0.72981894</td><td>-0.017927289</td><td>0.901070774</td><td>0.675243735</td><td>0.321705997</td></tr><tr><th>5</th><td>2016</td><td>7.9</td><td>Albania</td><td>Male</td><td>4.5111</td><td>9.282299995</td><td>0.638411462</td><td>68.69837952</td><td>0.72981894</td><td>-0.017927289</td><td>0.901070774</td><td>0.675243735</td><td>0.321705997</td></tr><tr><th>6</th><td>2016</td><td>4.7</td><td>Albania</td><td>Female</td><td>4.5111</td><td>9.282299995</td><td>0.638411462</td><td>68.69837952</td><td>0.72981894</td><td>-0.017927289</td><td>0.901070774</td><td>0.675243735</td><td>0.321705997</td></tr><tr><th>7</th><td>2016</td><td>3.2</td><td>Algeria</td><td>Both sexes</td><td>5.38817</td><td>9.549138069</td><td>0.748149693</td><td>64.82994843</td><td>NA</td><td>NA</td><td>NA</td><td>0.668838143</td><td>0.371372014</td></tr><tr><th>8</th><td>2016</td><td>4.7</td><td>Algeria</td><td>Male</td><td>5.38817</td><td>9.549138069</td><td>0.748149693</td><td>64.82994843</td><td>NA</td><td>NA</td><td>NA</td><td>0.668838143</td><td>0.371372014</td></tr><tr><th>9</th><td>2016</td><td>1.7</td><td>Algeria</td><td>Female</td><td>5.38817</td><td>9.549138069</td><td>0.748149693</td><td>64.82994843</td><td>NA</td><td>NA</td><td>NA</td><td>0.668838143</td><td>0.371372014</td></tr><tr><th>10</th><td>2016</td><td>9.2</td><td>Argentina</td><td>Both sexes</td><td>6.42722</td><td>NA</td><td>0.882819116</td><td>67.44399261</td><td>0.847702205</td><td>NA</td><td>0.850924492</td><td>0.841906726</td><td>0.311646461</td></tr><tr><th>11</th><td>2016</td><td>15.1</td><td>Argentina</td><td>Male</td><td>6.42722</td><td>NA</td><td>0.882819116</td><td>67.44399261</td><td>0.847702205</td><td>NA</td><td>0.850924492</td><td>0.841906726</td><td>0.311646461</td></tr><tr><th>12</th><td>2016</td><td>3.5</td><td>Argentina</td><td>Female</td><td>6.42722</td><td>NA</td><td>0.882819116</td><td>67.44399261</td><td>0.847702205</td><td>NA</td><td>0.850924492</td><td>0.841906726</td><td>0.311646461</td></tr><tr><th>13</th><td>2016</td><td>6.6</td><td>Armenia</td><td>Both sexes</td><td>4.32547</td><td>8.98956871</td><td>0.709218323</td><td>65.4094696</td><td>0.610986948</td><td>-0.155814424</td><td>0.921421051</td><td>0.593600273</td><td>0.437227815</td></tr><tr><th>14</th><td>2016</td><td>10.8</td><td>Armenia</td><td>Male</td><td>4.32547</td><td>8.98956871</td><td>0.709218323</td><td>65.4094696</td><td>0.610986948</td><td>-0.155814424</td><td>0.921421051</td><td>0.593600273</td><td>0.437227815</td></tr><tr><th>15</th><td>2016</td><td>2.8</td><td>Armenia</td><td>Female</td><td>4.32547</td><td>8.98956871</td><td>0.709218323</td><td>65.4094696</td><td>0.610986948</td><td>-0.155814424</td><td>0.921421051</td><td>0.593600273</td><td>0.437227815</td></tr><tr><th>16</th><td>2016</td><td>13.2</td><td>Australia</td><td>Both sexes</td><td>7.25008</td><td>10.69628143</td><td>0.942334235</td><td>72.52162933</td><td>0.922315717</td><td>0.223086312</td><td>0.398545116</td><td>0.790868282</td><td>0.236085787</td></tr><tr><th>17</th><td>2016</td><td>19.5</td><td>Australia</td><td>Male</td><td>7.25008</td><td>10.69628143</td><td>0.942334235</td><td>72.52162933</td><td>0.922315717</td><td>0.223086312</td><td>0.398545116</td><td>0.790868282</td><td>0.236085787</td></tr><tr><th>18</th><td>2016</td><td>7.0</td><td>Australia</td><td>Female</td><td>7.25008</td><td>10.69628143</td><td>0.942334235</td><td>72.52162933</td><td>0.922315717</td><td>0.223086312</td><td>0.398545116</td><td>0.790868282</td><td>0.236085787</td></tr><tr><th>19</th><td>2016</td><td>15.6</td><td>Austria</td><td>Both sexes</td><td>7.04807</td><td>10.69459534</td><td>0.926318586</td><td>71.64565277</td><td>0.888513982</td><td>0.071537279</td><td>0.52364099</td><td>0.755902588</td><td>0.197423846</td></tr><tr><th>20</th><td>2016</td><td>23.9</td><td>Austria</td><td>Male</td><td>7.04807</td><td>10.69459534</td><td>0.926318586</td><td>71.64565277</td><td>0.888513982</td><td>0.071537279</td><td>0.52364099</td><td>0.755902588</td><td>0.197423846</td></tr><tr><th>21</th><td>2016</td><td>7.7</td><td>Austria</td><td>Female</td><td>7.04807</td><td>10.69459534</td><td>0.926318586</td><td>71.64565277</td><td>0.888513982</td><td>0.071537279</td><td>0.52364099</td><td>0.755902588</td><td>0.197423846</td></tr><tr><th>22</th><td>2016</td><td>2.6</td><td>Azerbaijan</td><td>Both sexes</td><td>5.30389</td><td>9.691197395</td><td>0.777271032</td><td>62.04492569</td><td>0.712573171</td><td>-0.2282276</td><td>0.606770813</td><td>0.597593486</td><td>0.191117197</td></tr><tr><th>23</th><td>2016</td><td>4.2</td><td>Azerbaijan</td><td>Male</td><td>5.30389</td><td>9.691197395</td><td>0.777271032</td><td>62.04492569</td><td>0.712573171</td><td>-0.2282276</td><td>0.606770813</td><td>0.597593486</td><td>0.191117197</td></tr><tr><th>24</th><td>2016</td><td>1.1</td><td>Azerbaijan</td><td>Female</td><td>5.30389</td><td>9.691197395</td><td>0.777271032</td><td>62.04492569</td><td>0.712573171</td><td>-0.2282276</td><td>0.606770813</td><td>0.597593486</td><td>0.191117197</td></tr><tr><th>25</th><td>2016</td><td>5.9</td><td>Bahrain</td><td>Both sexes</td><td>6.16967</td><td>10.70677662</td><td>0.862700105</td><td>65.96392059</td><td>0.888691068</td><td>NA</td><td>NA</td><td>0.787187219</td><td>0.283466339</td></tr><tr><th>26</th><td>2016</td><td>8.4</td><td>Bahrain</td><td>Male</td><td>6.16967</td><td>10.70677662</td><td>0.862700105</td><td>65.96392059</td><td>0.888691068</td><td>NA</td><td>NA</td><td>0.787187219</td><td>0.283466339</td></tr><tr><th>27</th><td>2016</td><td>1.9</td><td>Bahrain</td><td>Female</td><td>6.16967</td><td>10.70677662</td><td>0.862700105</td><td>65.96392059</td><td>0.888691068</td><td>NA</td><td>NA</td><td>0.787187219</td><td>0.283466339</td></tr><tr><th>28</th><td>2016</td><td>5.9</td><td>Bangladesh</td><td>Both sexes</td><td>4.55614</td><td>8.100569725</td><td>0.649116933</td><td>62.04618835</td><td>0.874700487</td><td>-0.079817846</td><td>0.687853634</td><td>0.559939086</td><td>0.235022455</td></tr><tr><th>29</th><td>2016</td><td>4.7</td><td>Bangladesh</td><td>Male</td><td>4.55614</td><td>8.100569725</td><td>0.649116933</td><td>62.04618835</td><td>0.874700487</td><td>-0.079817846</td><td>0.687853634</td><td>0.559939086</td><td>0.235022455</td></tr><tr><th>30</th><td>2016</td><td>7.0</td><td>Bangladesh</td><td>Female</td><td>4.55614</td><td>8.100569725</td><td>0.649116933</td><td>62.04618835</td><td>0.874700487</td><td>-0.079817846</td><td>0.687853634</td><td>0.559939086</td><td>0.235022455</td></tr><tr><th>&vellip;</th><td>&vellip;</td><td>&vellip;</td><td>&vellip;</td><td>&vellip;</td><td>&vellip;</td><td>&vellip;</td><td>&vellip;</td><td>&vellip;</td><td>&vellip;</td><td>&vellip;</td><td>&vellip;</td><td>&vellip;</td><td>&vellip;</td></tr></tbody></table>"
      ],
      "text/plain": [
       "1122×13 DataFrames.DataFrame. Omitted printing of 7 columns\n",
       "│ Row  │ year │ value │ Country      │ Sex        │ Life Ladder │ GDP         │\n",
       "├──────┼──────┼───────┼──────────────┼────────────┼─────────────┼─────────────┤\n",
       "│ 1    │ 2016 │ 4.7   │ Afghanistan  │ Both sexes │ 4.22017     │ 7.49728775  │\n",
       "│ 2    │ 2016 │ 7.6   │ Afghanistan  │ Male       │ 4.22017     │ 7.49728775  │\n",
       "│ 3    │ 2016 │ 1.5   │ Afghanistan  │ Female     │ 4.22017     │ 7.49728775  │\n",
       "│ 4    │ 2016 │ 6.3   │ Albania      │ Both sexes │ 4.5111      │ 9.282299995 │\n",
       "│ 5    │ 2016 │ 7.9   │ Albania      │ Male       │ 4.5111      │ 9.282299995 │\n",
       "│ 6    │ 2016 │ 4.7   │ Albania      │ Female     │ 4.5111      │ 9.282299995 │\n",
       "│ 7    │ 2016 │ 3.2   │ Algeria      │ Both sexes │ 5.38817     │ 9.549138069 │\n",
       "│ 8    │ 2016 │ 4.7   │ Algeria      │ Male       │ 5.38817     │ 9.549138069 │\n",
       "│ 9    │ 2016 │ 1.7   │ Algeria      │ Female     │ 5.38817     │ 9.549138069 │\n",
       "│ 10   │ 2016 │ 9.2   │ Argentina    │ Both sexes │ 6.42722     │ NA          │\n",
       "│ 11   │ 2016 │ 15.1  │ Argentina    │ Male       │ 6.42722     │ NA          │\n",
       "⋮\n",
       "│ 1111 │ 2005 │ 3.0   │ Saudi Arabia │ Both sexes │ 7.07964     │ 10.56632328 │\n",
       "│ 1112 │ 2005 │ 4.4   │ Saudi Arabia │ Male       │ 7.07964     │ 10.56632328 │\n",
       "│ 1113 │ 2005 │ 1.2   │ Saudi Arabia │ Female     │ 7.07964     │ 10.56632328 │\n",
       "│ 1114 │ 2005 │ 8.1   │ Spain        │ Both sexes │ 7.15279     │ 10.41562176 │\n",
       "│ 1115 │ 2005 │ 12.2  │ Spain        │ Male       │ 7.15279     │ 10.41562176 │\n",
       "│ 1116 │ 2005 │ 4.2   │ Spain        │ Female     │ 7.15279     │ 10.41562176 │\n",
       "│ 1117 │ 2005 │ 16.4  │ Sweden       │ Both sexes │ 7.37632     │ 10.62580776 │\n",
       "│ 1118 │ 2005 │ 21.6  │ Sweden       │ Male       │ 7.37632     │ 10.62580776 │\n",
       "│ 1119 │ 2005 │ 11.2  │ Sweden       │ Female     │ 7.37632     │ 10.62580776 │\n",
       "│ 1120 │ 2005 │ 7.6   │ Turkey       │ Both sexes │ 4.71873     │ 9.625713348 │\n",
       "│ 1121 │ 2005 │ 12.2  │ Turkey       │ Male       │ 4.71873     │ 9.625713348 │\n",
       "│ 1122 │ 2005 │ 3.2   │ Turkey       │ Female     │ 4.71873     │ 9.625713348 │"
      ]
     },
     "execution_count": 90,
     "metadata": {},
     "output_type": "execute_result"
    }
   ],
   "source": [
    "# Combine the intersecting values long suicide rate and the world happiness report dataframes on both country and year\n",
    "suicide_happiness = join(suicide_long, world_happiness, on = [:Country, :year], makeunique = true, kind = :inner)"
   ]
  },
  {
   "cell_type": "code",
   "execution_count": 91,
   "metadata": {},
   "outputs": [],
   "source": [
    "# Define a list of the names of all European Union countries.\n",
    "EuropeanUnion = [\"Austria\",\"Belgium\",\"Bulgaria\",\"Croatia\",\"Cyprus\",\n",
    "                   \"Czech Rep.\",\"Denmark\",\"Estonia\",\"Finland\",\"France\",\n",
    "                   \"Germany\",\"Greece\",\"Hungary\",\"Ireland\",\"Italy\",\"Latvia\",\n",
    "                   \"Lithuania\",\"Luxembourg\",\"Malta\",\"Netherlands\",\"Poland\",\n",
    "                   \"Portugal\",\"Romania\",\"Slovakia\",\"Slovenia\",\"Spain\",\n",
    "    \"Sweden\",\"United Kingdom\"] ;"
   ]
  },
  {
   "cell_type": "code",
   "execution_count": 92,
   "metadata": {},
   "outputs": [
    {
     "data": {
      "text/html": [
       "<table class=\"data-frame\"><thead><tr><th></th><th>year</th><th>value</th><th>Country</th><th>Sex</th><th>Life Ladder</th><th>GDP</th><th>Social support</th><th>Healthy life expectancy at birth</th><th>Freedom to make life choices</th><th>Generosity</th><th>Perceptions of corruption</th><th>Positive affect</th><th>Negative affect</th></tr></thead><tbody><tr><th>1</th><td>2016</td><td>4.7</td><td>Afghanistan</td><td>Both sexes</td><td>4.22017</td><td>7.49728775</td><td>0.559071779</td><td>49.87126541</td><td>0.522566199</td><td>0.057393152</td><td>0.793245554</td><td>0.564952672</td><td>0.348332286</td></tr><tr><th>2</th><td>2016</td><td>7.6</td><td>Afghanistan</td><td>Male</td><td>4.22017</td><td>7.49728775</td><td>0.559071779</td><td>49.87126541</td><td>0.522566199</td><td>0.057393152</td><td>0.793245554</td><td>0.564952672</td><td>0.348332286</td></tr><tr><th>3</th><td>2016</td><td>1.5</td><td>Afghanistan</td><td>Female</td><td>4.22017</td><td>7.49728775</td><td>0.559071779</td><td>49.87126541</td><td>0.522566199</td><td>0.057393152</td><td>0.793245554</td><td>0.564952672</td><td>0.348332286</td></tr><tr><th>4</th><td>2016</td><td>6.3</td><td>Albania</td><td>Both sexes</td><td>4.5111</td><td>9.282299995</td><td>0.638411462</td><td>68.69837952</td><td>0.72981894</td><td>-0.017927289</td><td>0.901070774</td><td>0.675243735</td><td>0.321705997</td></tr><tr><th>5</th><td>2016</td><td>7.9</td><td>Albania</td><td>Male</td><td>4.5111</td><td>9.282299995</td><td>0.638411462</td><td>68.69837952</td><td>0.72981894</td><td>-0.017927289</td><td>0.901070774</td><td>0.675243735</td><td>0.321705997</td></tr><tr><th>6</th><td>2016</td><td>4.7</td><td>Albania</td><td>Female</td><td>4.5111</td><td>9.282299995</td><td>0.638411462</td><td>68.69837952</td><td>0.72981894</td><td>-0.017927289</td><td>0.901070774</td><td>0.675243735</td><td>0.321705997</td></tr><tr><th>7</th><td>2016</td><td>3.2</td><td>Algeria</td><td>Both sexes</td><td>5.38817</td><td>9.549138069</td><td>0.748149693</td><td>64.82994843</td><td>NA</td><td>NA</td><td>NA</td><td>0.668838143</td><td>0.371372014</td></tr><tr><th>8</th><td>2016</td><td>4.7</td><td>Algeria</td><td>Male</td><td>5.38817</td><td>9.549138069</td><td>0.748149693</td><td>64.82994843</td><td>NA</td><td>NA</td><td>NA</td><td>0.668838143</td><td>0.371372014</td></tr><tr><th>9</th><td>2016</td><td>1.7</td><td>Algeria</td><td>Female</td><td>5.38817</td><td>9.549138069</td><td>0.748149693</td><td>64.82994843</td><td>NA</td><td>NA</td><td>NA</td><td>0.668838143</td><td>0.371372014</td></tr><tr><th>10</th><td>2016</td><td>9.2</td><td>Argentina</td><td>Both sexes</td><td>6.42722</td><td>NA</td><td>0.882819116</td><td>67.44399261</td><td>0.847702205</td><td>NA</td><td>0.850924492</td><td>0.841906726</td><td>0.311646461</td></tr><tr><th>11</th><td>2016</td><td>15.1</td><td>Argentina</td><td>Male</td><td>6.42722</td><td>NA</td><td>0.882819116</td><td>67.44399261</td><td>0.847702205</td><td>NA</td><td>0.850924492</td><td>0.841906726</td><td>0.311646461</td></tr><tr><th>12</th><td>2016</td><td>3.5</td><td>Argentina</td><td>Female</td><td>6.42722</td><td>NA</td><td>0.882819116</td><td>67.44399261</td><td>0.847702205</td><td>NA</td><td>0.850924492</td><td>0.841906726</td><td>0.311646461</td></tr><tr><th>13</th><td>2016</td><td>6.6</td><td>Armenia</td><td>Both sexes</td><td>4.32547</td><td>8.98956871</td><td>0.709218323</td><td>65.4094696</td><td>0.610986948</td><td>-0.155814424</td><td>0.921421051</td><td>0.593600273</td><td>0.437227815</td></tr><tr><th>14</th><td>2016</td><td>10.8</td><td>Armenia</td><td>Male</td><td>4.32547</td><td>8.98956871</td><td>0.709218323</td><td>65.4094696</td><td>0.610986948</td><td>-0.155814424</td><td>0.921421051</td><td>0.593600273</td><td>0.437227815</td></tr><tr><th>15</th><td>2016</td><td>2.8</td><td>Armenia</td><td>Female</td><td>4.32547</td><td>8.98956871</td><td>0.709218323</td><td>65.4094696</td><td>0.610986948</td><td>-0.155814424</td><td>0.921421051</td><td>0.593600273</td><td>0.437227815</td></tr><tr><th>16</th><td>2016</td><td>13.2</td><td>Australia</td><td>Both sexes</td><td>7.25008</td><td>10.69628143</td><td>0.942334235</td><td>72.52162933</td><td>0.922315717</td><td>0.223086312</td><td>0.398545116</td><td>0.790868282</td><td>0.236085787</td></tr><tr><th>17</th><td>2016</td><td>19.5</td><td>Australia</td><td>Male</td><td>7.25008</td><td>10.69628143</td><td>0.942334235</td><td>72.52162933</td><td>0.922315717</td><td>0.223086312</td><td>0.398545116</td><td>0.790868282</td><td>0.236085787</td></tr><tr><th>18</th><td>2016</td><td>7.0</td><td>Australia</td><td>Female</td><td>7.25008</td><td>10.69628143</td><td>0.942334235</td><td>72.52162933</td><td>0.922315717</td><td>0.223086312</td><td>0.398545116</td><td>0.790868282</td><td>0.236085787</td></tr><tr><th>19</th><td>2016</td><td>15.6</td><td>Austria</td><td>Both sexes</td><td>7.04807</td><td>10.69459534</td><td>0.926318586</td><td>71.64565277</td><td>0.888513982</td><td>0.071537279</td><td>0.52364099</td><td>0.755902588</td><td>0.197423846</td></tr><tr><th>20</th><td>2016</td><td>23.9</td><td>Austria</td><td>Male</td><td>7.04807</td><td>10.69459534</td><td>0.926318586</td><td>71.64565277</td><td>0.888513982</td><td>0.071537279</td><td>0.52364099</td><td>0.755902588</td><td>0.197423846</td></tr><tr><th>21</th><td>2016</td><td>7.7</td><td>Austria</td><td>Female</td><td>7.04807</td><td>10.69459534</td><td>0.926318586</td><td>71.64565277</td><td>0.888513982</td><td>0.071537279</td><td>0.52364099</td><td>0.755902588</td><td>0.197423846</td></tr><tr><th>22</th><td>2016</td><td>2.6</td><td>Azerbaijan</td><td>Both sexes</td><td>5.30389</td><td>9.691197395</td><td>0.777271032</td><td>62.04492569</td><td>0.712573171</td><td>-0.2282276</td><td>0.606770813</td><td>0.597593486</td><td>0.191117197</td></tr><tr><th>23</th><td>2016</td><td>4.2</td><td>Azerbaijan</td><td>Male</td><td>5.30389</td><td>9.691197395</td><td>0.777271032</td><td>62.04492569</td><td>0.712573171</td><td>-0.2282276</td><td>0.606770813</td><td>0.597593486</td><td>0.191117197</td></tr><tr><th>24</th><td>2016</td><td>1.1</td><td>Azerbaijan</td><td>Female</td><td>5.30389</td><td>9.691197395</td><td>0.777271032</td><td>62.04492569</td><td>0.712573171</td><td>-0.2282276</td><td>0.606770813</td><td>0.597593486</td><td>0.191117197</td></tr><tr><th>25</th><td>2016</td><td>5.9</td><td>Bahrain</td><td>Both sexes</td><td>6.16967</td><td>10.70677662</td><td>0.862700105</td><td>65.96392059</td><td>0.888691068</td><td>NA</td><td>NA</td><td>0.787187219</td><td>0.283466339</td></tr><tr><th>26</th><td>2016</td><td>8.4</td><td>Bahrain</td><td>Male</td><td>6.16967</td><td>10.70677662</td><td>0.862700105</td><td>65.96392059</td><td>0.888691068</td><td>NA</td><td>NA</td><td>0.787187219</td><td>0.283466339</td></tr><tr><th>27</th><td>2016</td><td>1.9</td><td>Bahrain</td><td>Female</td><td>6.16967</td><td>10.70677662</td><td>0.862700105</td><td>65.96392059</td><td>0.888691068</td><td>NA</td><td>NA</td><td>0.787187219</td><td>0.283466339</td></tr><tr><th>28</th><td>2016</td><td>5.9</td><td>Bangladesh</td><td>Both sexes</td><td>4.55614</td><td>8.100569725</td><td>0.649116933</td><td>62.04618835</td><td>0.874700487</td><td>-0.079817846</td><td>0.687853634</td><td>0.559939086</td><td>0.235022455</td></tr><tr><th>29</th><td>2016</td><td>4.7</td><td>Bangladesh</td><td>Male</td><td>4.55614</td><td>8.100569725</td><td>0.649116933</td><td>62.04618835</td><td>0.874700487</td><td>-0.079817846</td><td>0.687853634</td><td>0.559939086</td><td>0.235022455</td></tr><tr><th>30</th><td>2016</td><td>7.0</td><td>Bangladesh</td><td>Female</td><td>4.55614</td><td>8.100569725</td><td>0.649116933</td><td>62.04618835</td><td>0.874700487</td><td>-0.079817846</td><td>0.687853634</td><td>0.559939086</td><td>0.235022455</td></tr><tr><th>&vellip;</th><td>&vellip;</td><td>&vellip;</td><td>&vellip;</td><td>&vellip;</td><td>&vellip;</td><td>&vellip;</td><td>&vellip;</td><td>&vellip;</td><td>&vellip;</td><td>&vellip;</td><td>&vellip;</td><td>&vellip;</td><td>&vellip;</td></tr></tbody></table>"
      ],
      "text/plain": [
       "363×13 DataFrames.DataFrame. Omitted printing of 7 columns\n",
       "│ Row │ year │ value │ Country     │ Sex        │ Life Ladder │ GDP         │\n",
       "├─────┼──────┼───────┼─────────────┼────────────┼─────────────┼─────────────┤\n",
       "│ 1   │ 2016 │ 4.7   │ Afghanistan │ Both sexes │ 4.22017     │ 7.49728775  │\n",
       "│ 2   │ 2016 │ 7.6   │ Afghanistan │ Male       │ 4.22017     │ 7.49728775  │\n",
       "│ 3   │ 2016 │ 1.5   │ Afghanistan │ Female     │ 4.22017     │ 7.49728775  │\n",
       "│ 4   │ 2016 │ 6.3   │ Albania     │ Both sexes │ 4.5111      │ 9.282299995 │\n",
       "│ 5   │ 2016 │ 7.9   │ Albania     │ Male       │ 4.5111      │ 9.282299995 │\n",
       "│ 6   │ 2016 │ 4.7   │ Albania     │ Female     │ 4.5111      │ 9.282299995 │\n",
       "│ 7   │ 2016 │ 3.2   │ Algeria     │ Both sexes │ 5.38817     │ 9.549138069 │\n",
       "│ 8   │ 2016 │ 4.7   │ Algeria     │ Male       │ 5.38817     │ 9.549138069 │\n",
       "│ 9   │ 2016 │ 1.7   │ Algeria     │ Female     │ 5.38817     │ 9.549138069 │\n",
       "│ 10  │ 2016 │ 9.2   │ Argentina   │ Both sexes │ 6.42722     │ NA          │\n",
       "│ 11  │ 2016 │ 15.1  │ Argentina   │ Male       │ 6.42722     │ NA          │\n",
       "⋮\n",
       "│ 352 │ 2016 │ 7.4   │ Uzbekistan  │ Both sexes │ 5.89254     │ 8.692045212 │\n",
       "│ 353 │ 2016 │ 9.9   │ Uzbekistan  │ Male       │ 5.89254     │ 8.692045212 │\n",
       "│ 354 │ 2016 │ 4.8   │ Uzbekistan  │ Female     │ 5.89254     │ 8.692045212 │\n",
       "│ 355 │ 2016 │ 8.5   │ Yemen       │ Both sexes │ 3.82563     │ NA          │\n",
       "│ 356 │ 2016 │ 11.3  │ Yemen       │ Male       │ 3.82563     │ NA          │\n",
       "│ 357 │ 2016 │ 5.6   │ Yemen       │ Female     │ 3.82563     │ NA          │\n",
       "│ 358 │ 2016 │ 6.1   │ Zambia      │ Both sexes │ 4.34754     │ 8.198633194 │\n",
       "│ 359 │ 2016 │ 8.8   │ Zambia      │ Male       │ 4.34754     │ 8.198633194 │\n",
       "│ 360 │ 2016 │ 3.5   │ Zambia      │ Female     │ 4.34754     │ 8.198633194 │\n",
       "│ 361 │ 2016 │ 10.7  │ Zimbabwe    │ Both sexes │ 3.7354      │ 7.422307968 │\n",
       "│ 362 │ 2016 │ 15.7  │ Zimbabwe    │ Male       │ 3.7354      │ 7.422307968 │\n",
       "│ 363 │ 2016 │ 6.0   │ Zimbabwe    │ Female     │ 3.7354      │ 7.422307968 │"
      ]
     },
     "execution_count": 92,
     "metadata": {},
     "output_type": "execute_result"
    }
   ],
   "source": [
    "# Filter the dataframe by the year 2016. \n",
    "df = @where(suicide_happiness, :year .== \"2016\")"
   ]
  },
  {
   "cell_type": "code",
   "execution_count": 93,
   "metadata": {},
   "outputs": [
    {
     "data": {
      "text/html": [
       "<table class=\"data-frame\"><thead><tr><th></th><th>year</th><th>value</th><th>Country</th><th>Sex</th><th>Life Ladder</th><th>GDP</th><th>Social support</th><th>Healthy life expectancy at birth</th><th>Freedom to make life choices</th><th>Generosity</th><th>Perceptions of corruption</th><th>Positive affect</th><th>Negative affect</th></tr></thead><tbody><tr><th>1</th><td>2016</td><td>15.6</td><td>Austria</td><td>Both sexes</td><td>7.04807</td><td>10.69459534</td><td>0.926318586</td><td>71.64565277</td><td>0.888513982</td><td>0.071537279</td><td>0.52364099</td><td>0.755902588</td><td>0.197423846</td></tr><tr><th>2</th><td>2016</td><td>23.9</td><td>Austria</td><td>Male</td><td>7.04807</td><td>10.69459534</td><td>0.926318586</td><td>71.64565277</td><td>0.888513982</td><td>0.071537279</td><td>0.52364099</td><td>0.755902588</td><td>0.197423846</td></tr><tr><th>3</th><td>2016</td><td>7.7</td><td>Austria</td><td>Female</td><td>7.04807</td><td>10.69459534</td><td>0.926318586</td><td>71.64565277</td><td>0.888513982</td><td>0.071537279</td><td>0.52364099</td><td>0.755902588</td><td>0.197423846</td></tr><tr><th>4</th><td>2016</td><td>20.7</td><td>Belgium</td><td>Both sexes</td><td>6.94894</td><td>10.63217831</td><td>0.928964078</td><td>71.52167511</td><td>0.865759015</td><td>-0.064254232</td><td>0.4966591</td><td>0.764590085</td><td>0.259653389</td></tr><tr><th>5</th><td>2016</td><td>27.8</td><td>Belgium</td><td>Male</td><td>6.94894</td><td>10.63217831</td><td>0.928964078</td><td>71.52167511</td><td>0.865759015</td><td>-0.064254232</td><td>0.4966591</td><td>0.764590085</td><td>0.259653389</td></tr><tr><th>6</th><td>2016</td><td>13.8</td><td>Belgium</td><td>Female</td><td>6.94894</td><td>10.63217831</td><td>0.928964078</td><td>71.52167511</td><td>0.865759015</td><td>-0.064254232</td><td>0.4966591</td><td>0.764590085</td><td>0.259653389</td></tr><tr><th>7</th><td>2016</td><td>11.5</td><td>Bulgaria</td><td>Both sexes</td><td>4.83756</td><td>9.766366959</td><td>0.92603606</td><td>68.2297287</td><td>0.700265527</td><td>-0.174192682</td><td>0.935988188</td><td>0.62185514</td><td>0.171699852</td></tr><tr><th>8</th><td>2016</td><td>18.2</td><td>Bulgaria</td><td>Male</td><td>4.83756</td><td>9.766366959</td><td>0.92603606</td><td>68.2297287</td><td>0.700265527</td><td>-0.174192682</td><td>0.935988188</td><td>0.62185514</td><td>0.171699852</td></tr><tr><th>9</th><td>2016</td><td>5.1</td><td>Bulgaria</td><td>Female</td><td>4.83756</td><td>9.766366959</td><td>0.92603606</td><td>68.2297287</td><td>0.700265527</td><td>-0.174192682</td><td>0.935988188</td><td>0.62185514</td><td>0.171699852</td></tr><tr><th>10</th><td>2016</td><td>5.3</td><td>Cyprus</td><td>Both sexes</td><td>5.79462</td><td>10.32312202</td><td>0.786438465</td><td>72.64193726</td><td>0.756220996</td><td>-0.03673432</td><td>0.897639513</td><td>0.742049396</td><td>0.336344689</td></tr><tr><th>11</th><td>2016</td><td>8.2</td><td>Cyprus</td><td>Male</td><td>5.79462</td><td>10.32312202</td><td>0.786438465</td><td>72.64193726</td><td>0.756220996</td><td>-0.03673432</td><td>0.897639513</td><td>0.742049396</td><td>0.336344689</td></tr><tr><th>12</th><td>2016</td><td>2.3</td><td>Cyprus</td><td>Female</td><td>5.79462</td><td>10.32312202</td><td>0.786438465</td><td>72.64193726</td><td>0.756220996</td><td>-0.03673432</td><td>0.897639513</td><td>0.742049396</td><td>0.336344689</td></tr><tr><th>13</th><td>2016</td><td>12.8</td><td>Denmark</td><td>Both sexes</td><td>7.55778</td><td>10.68310165</td><td>0.954451501</td><td>70.91555023</td><td>0.948230565</td><td>0.131326869</td><td>0.209893376</td><td>0.836115718</td><td>0.207583427</td></tr><tr><th>14</th><td>2016</td><td>17.3</td><td>Denmark</td><td>Male</td><td>7.55778</td><td>10.68310165</td><td>0.954451501</td><td>70.91555023</td><td>0.948230565</td><td>0.131326869</td><td>0.209893376</td><td>0.836115718</td><td>0.207583427</td></tr><tr><th>15</th><td>2016</td><td>8.2</td><td>Denmark</td><td>Female</td><td>7.55778</td><td>10.68310165</td><td>0.954451501</td><td>70.91555023</td><td>0.948230565</td><td>0.131326869</td><td>0.209893376</td><td>0.836115718</td><td>0.207583427</td></tr><tr><th>16</th><td>2016</td><td>17.8</td><td>Estonia</td><td>Both sexes</td><td>5.64968</td><td>10.22024822</td><td>0.937715113</td><td>67.37776184</td><td>0.842770696</td><td>-0.156858996</td><td>0.639085293</td><td>0.72625488</td><td>0.176869258</td></tr><tr><th>17</th><td>2016</td><td>30.6</td><td>Estonia</td><td>Male</td><td>5.64968</td><td>10.22024822</td><td>0.937715113</td><td>67.37776184</td><td>0.842770696</td><td>-0.156858996</td><td>0.639085293</td><td>0.72625488</td><td>0.176869258</td></tr><tr><th>18</th><td>2016</td><td>6.6</td><td>Estonia</td><td>Female</td><td>5.64968</td><td>10.22024822</td><td>0.937715113</td><td>67.37776184</td><td>0.842770696</td><td>-0.156858996</td><td>0.639085293</td><td>0.72625488</td><td>0.176869258</td></tr><tr><th>19</th><td>2016</td><td>15.9</td><td>Finland</td><td>Both sexes</td><td>7.65984</td><td>10.56876278</td><td>0.953940451</td><td>71.38269043</td><td>0.948372185</td><td>-0.035874676</td><td>0.249659568</td><td>0.797325075</td><td>0.181998447</td></tr><tr><th>20</th><td>2016</td><td>23.9</td><td>Finland</td><td>Male</td><td>7.65984</td><td>10.56876278</td><td>0.953940451</td><td>71.38269043</td><td>0.948372185</td><td>-0.035874676</td><td>0.249659568</td><td>0.797325075</td><td>0.181998447</td></tr><tr><th>21</th><td>2016</td><td>8.1</td><td>Finland</td><td>Female</td><td>7.65984</td><td>10.56876278</td><td>0.953940451</td><td>71.38269043</td><td>0.948372185</td><td>-0.035874676</td><td>0.249659568</td><td>0.797325075</td><td>0.181998447</td></tr><tr><th>22</th><td>2016</td><td>17.7</td><td>France</td><td>Both sexes</td><td>6.47521</td><td>10.53624725</td><td>0.884922922</td><td>72.59750366</td><td>0.786780477</td><td>-0.101393685</td><td>0.622697055</td><td>0.772661328</td><td>0.27003625</td></tr><tr><th>23</th><td>2016</td><td>23.9</td><td>France</td><td>Male</td><td>6.47521</td><td>10.53624725</td><td>0.884922922</td><td>72.59750366</td><td>0.786780477</td><td>-0.101393685</td><td>0.622697055</td><td>0.772661328</td><td>0.27003625</td></tr><tr><th>24</th><td>2016</td><td>11.7</td><td>France</td><td>Female</td><td>6.47521</td><td>10.53624725</td><td>0.884922922</td><td>72.59750366</td><td>0.786780477</td><td>-0.101393685</td><td>0.622697055</td><td>0.772661328</td><td>0.27003625</td></tr><tr><th>25</th><td>2016</td><td>13.6</td><td>Germany</td><td>Both sexes</td><td>6.87376</td><td>10.70416832</td><td>0.906029284</td><td>70.86317444</td><td>0.870515049</td><td>0.136947975</td><td>0.445922136</td><td>0.737745941</td><td>0.187254936</td></tr><tr><th>26</th><td>2016</td><td>19.7</td><td>Germany</td><td>Male</td><td>6.87376</td><td>10.70416832</td><td>0.906029284</td><td>70.86317444</td><td>0.870515049</td><td>0.136947975</td><td>0.445922136</td><td>0.737745941</td><td>0.187254936</td></tr><tr><th>27</th><td>2016</td><td>7.7</td><td>Germany</td><td>Female</td><td>6.87376</td><td>10.70416832</td><td>0.906029284</td><td>70.86317444</td><td>0.870515049</td><td>0.136947975</td><td>0.445922136</td><td>0.737745941</td><td>0.187254936</td></tr><tr><th>28</th><td>2016</td><td>5.0</td><td>Greece</td><td>Both sexes</td><td>5.30262</td><td>10.1151228</td><td>0.802605867</td><td>71.25013733</td><td>0.481616855</td><td>-0.267767459</td><td>0.898470819</td><td>0.700504363</td><td>0.336207509</td></tr><tr><th>29</th><td>2016</td><td>8.1</td><td>Greece</td><td>Male</td><td>5.30262</td><td>10.1151228</td><td>0.802605867</td><td>71.25013733</td><td>0.481616855</td><td>-0.267767459</td><td>0.898470819</td><td>0.700504363</td><td>0.336207509</td></tr><tr><th>30</th><td>2016</td><td>2.0</td><td>Greece</td><td>Female</td><td>5.30262</td><td>10.1151228</td><td>0.802605867</td><td>71.25013733</td><td>0.481616855</td><td>-0.267767459</td><td>0.898470819</td><td>0.700504363</td><td>0.336207509</td></tr><tr><th>&vellip;</th><td>&vellip;</td><td>&vellip;</td><td>&vellip;</td><td>&vellip;</td><td>&vellip;</td><td>&vellip;</td><td>&vellip;</td><td>&vellip;</td><td>&vellip;</td><td>&vellip;</td><td>&vellip;</td><td>&vellip;</td><td>&vellip;</td></tr></tbody></table>"
      ],
      "text/plain": [
       "75×13 DataFrames.DataFrame. Omitted printing of 7 columns\n",
       "│ Row │ year │ value │ Country  │ Sex        │ Life Ladder │ GDP         │\n",
       "├─────┼──────┼───────┼──────────┼────────────┼─────────────┼─────────────┤\n",
       "│ 1   │ 2016 │ 15.6  │ Austria  │ Both sexes │ 7.04807     │ 10.69459534 │\n",
       "│ 2   │ 2016 │ 23.9  │ Austria  │ Male       │ 7.04807     │ 10.69459534 │\n",
       "│ 3   │ 2016 │ 7.7   │ Austria  │ Female     │ 7.04807     │ 10.69459534 │\n",
       "│ 4   │ 2016 │ 20.7  │ Belgium  │ Both sexes │ 6.94894     │ 10.63217831 │\n",
       "│ 5   │ 2016 │ 27.8  │ Belgium  │ Male       │ 6.94894     │ 10.63217831 │\n",
       "│ 6   │ 2016 │ 13.8  │ Belgium  │ Female     │ 6.94894     │ 10.63217831 │\n",
       "│ 7   │ 2016 │ 11.5  │ Bulgaria │ Both sexes │ 4.83756     │ 9.766366959 │\n",
       "│ 8   │ 2016 │ 18.2  │ Bulgaria │ Male       │ 4.83756     │ 9.766366959 │\n",
       "│ 9   │ 2016 │ 5.1   │ Bulgaria │ Female     │ 4.83756     │ 9.766366959 │\n",
       "│ 10  │ 2016 │ 5.3   │ Cyprus   │ Both sexes │ 5.79462     │ 10.32312202 │\n",
       "│ 11  │ 2016 │ 8.2   │ Cyprus   │ Male       │ 5.79462     │ 10.32312202 │\n",
       "⋮\n",
       "│ 64  │ 2016 │ 12.8  │ Slovakia │ Both sexes │ 5.99316     │ 10.24734116 │\n",
       "│ 65  │ 2016 │ 22.7  │ Slovakia │ Male       │ 5.99316     │ 10.24734116 │\n",
       "│ 66  │ 2016 │ 3.5   │ Slovakia │ Female     │ 5.99316     │ 10.24734116 │\n",
       "│ 67  │ 2016 │ 18.6  │ Slovenia │ Both sexes │ 5.93682     │ 10.28735638 │\n",
       "│ 68  │ 2016 │ 30.4  │ Slovenia │ Male       │ 5.93682     │ 10.28735638 │\n",
       "│ 69  │ 2016 │ 6.9   │ Slovenia │ Female     │ 5.93682     │ 10.28735638 │\n",
       "│ 70  │ 2016 │ 8.7   │ Spain    │ Both sexes │ 6.31861     │ 10.42780018 │\n",
       "│ 71  │ 2016 │ 13.1  │ Spain    │ Male       │ 6.31861     │ 10.42780018 │\n",
       "│ 72  │ 2016 │ 4.5   │ Spain    │ Female     │ 6.31861     │ 10.42780018 │\n",
       "│ 73  │ 2016 │ 14.8  │ Sweden   │ Both sexes │ 7.36874     │ 10.7443037  │\n",
       "│ 74  │ 2016 │ 19.1  │ Sweden   │ Male       │ 7.36874     │ 10.7443037  │\n",
       "│ 75  │ 2016 │ 10.5  │ Sweden   │ Female     │ 7.36874     │ 10.7443037  │"
      ]
     },
     "execution_count": 93,
     "metadata": {},
     "output_type": "execute_result"
    }
   ],
   "source": [
    "# Filter the dataframe where the country is contained in the list of European Union countries.\n",
    "df = @where(df, map(x -> x ∈ EuropeanUnion, :Country))"
   ]
  },
  {
   "cell_type": "code",
   "execution_count": 94,
   "metadata": {},
   "outputs": [
    {
     "data": {
      "text/html": [
       "<table class=\"data-frame\"><thead><tr><th></th><th>year</th><th>value</th><th>Country</th><th>Sex</th><th>Life Ladder</th><th>GDP</th><th>Social support</th><th>Healthy life expectancy at birth</th><th>Freedom to make life choices</th><th>Generosity</th><th>Perceptions of corruption</th><th>Positive affect</th><th>Negative affect</th></tr></thead><tbody><tr><th>1</th><td>2016</td><td>23.9</td><td>Austria</td><td>Male</td><td>7.04807</td><td>10.69459534</td><td>0.926318586</td><td>71.64565277</td><td>0.888513982</td><td>0.071537279</td><td>0.52364099</td><td>0.755902588</td><td>0.197423846</td></tr><tr><th>2</th><td>2016</td><td>7.7</td><td>Austria</td><td>Female</td><td>7.04807</td><td>10.69459534</td><td>0.926318586</td><td>71.64565277</td><td>0.888513982</td><td>0.071537279</td><td>0.52364099</td><td>0.755902588</td><td>0.197423846</td></tr><tr><th>3</th><td>2016</td><td>27.8</td><td>Belgium</td><td>Male</td><td>6.94894</td><td>10.63217831</td><td>0.928964078</td><td>71.52167511</td><td>0.865759015</td><td>-0.064254232</td><td>0.4966591</td><td>0.764590085</td><td>0.259653389</td></tr><tr><th>4</th><td>2016</td><td>13.8</td><td>Belgium</td><td>Female</td><td>6.94894</td><td>10.63217831</td><td>0.928964078</td><td>71.52167511</td><td>0.865759015</td><td>-0.064254232</td><td>0.4966591</td><td>0.764590085</td><td>0.259653389</td></tr><tr><th>5</th><td>2016</td><td>18.2</td><td>Bulgaria</td><td>Male</td><td>4.83756</td><td>9.766366959</td><td>0.92603606</td><td>68.2297287</td><td>0.700265527</td><td>-0.174192682</td><td>0.935988188</td><td>0.62185514</td><td>0.171699852</td></tr><tr><th>6</th><td>2016</td><td>5.1</td><td>Bulgaria</td><td>Female</td><td>4.83756</td><td>9.766366959</td><td>0.92603606</td><td>68.2297287</td><td>0.700265527</td><td>-0.174192682</td><td>0.935988188</td><td>0.62185514</td><td>0.171699852</td></tr><tr><th>7</th><td>2016</td><td>8.2</td><td>Cyprus</td><td>Male</td><td>5.79462</td><td>10.32312202</td><td>0.786438465</td><td>72.64193726</td><td>0.756220996</td><td>-0.03673432</td><td>0.897639513</td><td>0.742049396</td><td>0.336344689</td></tr><tr><th>8</th><td>2016</td><td>2.3</td><td>Cyprus</td><td>Female</td><td>5.79462</td><td>10.32312202</td><td>0.786438465</td><td>72.64193726</td><td>0.756220996</td><td>-0.03673432</td><td>0.897639513</td><td>0.742049396</td><td>0.336344689</td></tr><tr><th>9</th><td>2016</td><td>17.3</td><td>Denmark</td><td>Male</td><td>7.55778</td><td>10.68310165</td><td>0.954451501</td><td>70.91555023</td><td>0.948230565</td><td>0.131326869</td><td>0.209893376</td><td>0.836115718</td><td>0.207583427</td></tr><tr><th>10</th><td>2016</td><td>8.2</td><td>Denmark</td><td>Female</td><td>7.55778</td><td>10.68310165</td><td>0.954451501</td><td>70.91555023</td><td>0.948230565</td><td>0.131326869</td><td>0.209893376</td><td>0.836115718</td><td>0.207583427</td></tr><tr><th>11</th><td>2016</td><td>30.6</td><td>Estonia</td><td>Male</td><td>5.64968</td><td>10.22024822</td><td>0.937715113</td><td>67.37776184</td><td>0.842770696</td><td>-0.156858996</td><td>0.639085293</td><td>0.72625488</td><td>0.176869258</td></tr><tr><th>12</th><td>2016</td><td>6.6</td><td>Estonia</td><td>Female</td><td>5.64968</td><td>10.22024822</td><td>0.937715113</td><td>67.37776184</td><td>0.842770696</td><td>-0.156858996</td><td>0.639085293</td><td>0.72625488</td><td>0.176869258</td></tr><tr><th>13</th><td>2016</td><td>23.9</td><td>Finland</td><td>Male</td><td>7.65984</td><td>10.56876278</td><td>0.953940451</td><td>71.38269043</td><td>0.948372185</td><td>-0.035874676</td><td>0.249659568</td><td>0.797325075</td><td>0.181998447</td></tr><tr><th>14</th><td>2016</td><td>8.1</td><td>Finland</td><td>Female</td><td>7.65984</td><td>10.56876278</td><td>0.953940451</td><td>71.38269043</td><td>0.948372185</td><td>-0.035874676</td><td>0.249659568</td><td>0.797325075</td><td>0.181998447</td></tr><tr><th>15</th><td>2016</td><td>23.9</td><td>France</td><td>Male</td><td>6.47521</td><td>10.53624725</td><td>0.884922922</td><td>72.59750366</td><td>0.786780477</td><td>-0.101393685</td><td>0.622697055</td><td>0.772661328</td><td>0.27003625</td></tr><tr><th>16</th><td>2016</td><td>11.7</td><td>France</td><td>Female</td><td>6.47521</td><td>10.53624725</td><td>0.884922922</td><td>72.59750366</td><td>0.786780477</td><td>-0.101393685</td><td>0.622697055</td><td>0.772661328</td><td>0.27003625</td></tr><tr><th>17</th><td>2016</td><td>19.7</td><td>Germany</td><td>Male</td><td>6.87376</td><td>10.70416832</td><td>0.906029284</td><td>70.86317444</td><td>0.870515049</td><td>0.136947975</td><td>0.445922136</td><td>0.737745941</td><td>0.187254936</td></tr><tr><th>18</th><td>2016</td><td>7.7</td><td>Germany</td><td>Female</td><td>6.87376</td><td>10.70416832</td><td>0.906029284</td><td>70.86317444</td><td>0.870515049</td><td>0.136947975</td><td>0.445922136</td><td>0.737745941</td><td>0.187254936</td></tr><tr><th>19</th><td>2016</td><td>8.1</td><td>Greece</td><td>Male</td><td>5.30262</td><td>10.1151228</td><td>0.802605867</td><td>71.25013733</td><td>0.481616855</td><td>-0.267767459</td><td>0.898470819</td><td>0.700504363</td><td>0.336207509</td></tr><tr><th>20</th><td>2016</td><td>2.0</td><td>Greece</td><td>Female</td><td>5.30262</td><td>10.1151228</td><td>0.802605867</td><td>71.25013733</td><td>0.481616855</td><td>-0.267767459</td><td>0.898470819</td><td>0.700504363</td><td>0.336207509</td></tr><tr><th>21</th><td>2016</td><td>29.7</td><td>Hungary</td><td>Male</td><td>5.4489</td><td>10.12352848</td><td>0.899511576</td><td>67.30926514</td><td>0.55395174</td><td>-0.196067855</td><td>0.924185812</td><td>0.66591078</td><td>0.24332577</td></tr><tr><th>22</th><td>2016</td><td>9.6</td><td>Hungary</td><td>Female</td><td>5.4489</td><td>10.12352848</td><td>0.899511576</td><td>67.30926514</td><td>0.55395174</td><td>-0.196067855</td><td>0.924185812</td><td>0.66591078</td><td>0.24332577</td></tr><tr><th>23</th><td>2016</td><td>18.5</td><td>Ireland</td><td>Male</td><td>7.04073</td><td>10.90115261</td><td>0.958144009</td><td>71.40406799</td><td>0.874589145</td><td>0.171785638</td><td>0.398544312</td><td>0.809203029</td><td>0.211063311</td></tr><tr><th>24</th><td>2016</td><td>4.6</td><td>Ireland</td><td>Female</td><td>7.04073</td><td>10.90115261</td><td>0.958144009</td><td>71.40406799</td><td>0.874589145</td><td>0.171785638</td><td>0.398544312</td><td>0.809203029</td><td>0.211063311</td></tr><tr><th>25</th><td>2016</td><td>12.1</td><td>Italy</td><td>Male</td><td>5.95452</td><td>10.43184376</td><td>0.927212834</td><td>72.72756195</td><td>0.623741627</td><td>-0.087276623</td><td>0.902801216</td><td>0.685422838</td><td>0.339173585</td></tr><tr><th>26</th><td>2016</td><td>4.5</td><td>Italy</td><td>Female</td><td>5.95452</td><td>10.43184376</td><td>0.927212834</td><td>72.72756195</td><td>0.623741627</td><td>-0.087276623</td><td>0.902801216</td><td>0.685422838</td><td>0.339173585</td></tr><tr><th>27</th><td>2016</td><td>37.6</td><td>Latvia</td><td>Male</td><td>5.94045</td><td>10.05293655</td><td>0.917073965</td><td>65.52488708</td><td>0.685299277</td><td>-0.162657723</td><td>0.867639601</td><td>0.653751254</td><td>0.231383532</td></tr><tr><th>28</th><td>2016</td><td>7.3</td><td>Latvia</td><td>Female</td><td>5.94045</td><td>10.05293655</td><td>0.917073965</td><td>65.52488708</td><td>0.685299277</td><td>-0.162657723</td><td>0.867639601</td><td>0.653751254</td><td>0.231383532</td></tr><tr><th>29</th><td>2016</td><td>58.1</td><td>Lithuania</td><td>Male</td><td>5.86555</td><td>10.21611309</td><td>0.937873363</td><td>65.05998993</td><td>0.614239335</td><td>-0.27387473</td><td>0.949392676</td><td>0.594167292</td><td>0.249855742</td></tr><tr><th>30</th><td>2016</td><td>9.5</td><td>Lithuania</td><td>Female</td><td>5.86555</td><td>10.21611309</td><td>0.937873363</td><td>65.05998993</td><td>0.614239335</td><td>-0.27387473</td><td>0.949392676</td><td>0.594167292</td><td>0.249855742</td></tr><tr><th>&vellip;</th><td>&vellip;</td><td>&vellip;</td><td>&vellip;</td><td>&vellip;</td><td>&vellip;</td><td>&vellip;</td><td>&vellip;</td><td>&vellip;</td><td>&vellip;</td><td>&vellip;</td><td>&vellip;</td><td>&vellip;</td><td>&vellip;</td></tr></tbody></table>"
      ],
      "text/plain": [
       "50×13 DataFrames.DataFrame. Omitted printing of 7 columns\n",
       "│ Row │ year │ value │ Country  │ Sex    │ Life Ladder │ GDP         │\n",
       "├─────┼──────┼───────┼──────────┼────────┼─────────────┼─────────────┤\n",
       "│ 1   │ 2016 │ 23.9  │ Austria  │ Male   │ 7.04807     │ 10.69459534 │\n",
       "│ 2   │ 2016 │ 7.7   │ Austria  │ Female │ 7.04807     │ 10.69459534 │\n",
       "│ 3   │ 2016 │ 27.8  │ Belgium  │ Male   │ 6.94894     │ 10.63217831 │\n",
       "│ 4   │ 2016 │ 13.8  │ Belgium  │ Female │ 6.94894     │ 10.63217831 │\n",
       "│ 5   │ 2016 │ 18.2  │ Bulgaria │ Male   │ 4.83756     │ 9.766366959 │\n",
       "│ 6   │ 2016 │ 5.1   │ Bulgaria │ Female │ 4.83756     │ 9.766366959 │\n",
       "│ 7   │ 2016 │ 8.2   │ Cyprus   │ Male   │ 5.79462     │ 10.32312202 │\n",
       "│ 8   │ 2016 │ 2.3   │ Cyprus   │ Female │ 5.79462     │ 10.32312202 │\n",
       "│ 9   │ 2016 │ 17.3  │ Denmark  │ Male   │ 7.55778     │ 10.68310165 │\n",
       "│ 10  │ 2016 │ 8.2   │ Denmark  │ Female │ 7.55778     │ 10.68310165 │\n",
       "│ 11  │ 2016 │ 30.6  │ Estonia  │ Male   │ 5.64968     │ 10.22024822 │\n",
       "⋮\n",
       "│ 39  │ 2016 │ 22.2  │ Portugal │ Male   │ 5.44664     │ 10.20860291 │\n",
       "│ 40  │ 2016 │ 6.5   │ Portugal │ Female │ 5.44664     │ 10.20860291 │\n",
       "│ 41  │ 2016 │ 17.9  │ Romania  │ Male   │ 5.96887     │ 9.942670822 │\n",
       "│ 42  │ 2016 │ 3.3   │ Romania  │ Female │ 5.96887     │ 9.942670822 │\n",
       "│ 43  │ 2016 │ 22.7  │ Slovakia │ Male   │ 5.99316     │ 10.24734116 │\n",
       "│ 44  │ 2016 │ 3.5   │ Slovakia │ Female │ 5.99316     │ 10.24734116 │\n",
       "│ 45  │ 2016 │ 30.4  │ Slovenia │ Male   │ 5.93682     │ 10.28735638 │\n",
       "│ 46  │ 2016 │ 6.9   │ Slovenia │ Female │ 5.93682     │ 10.28735638 │\n",
       "│ 47  │ 2016 │ 13.1  │ Spain    │ Male   │ 6.31861     │ 10.42780018 │\n",
       "│ 48  │ 2016 │ 4.5   │ Spain    │ Female │ 6.31861     │ 10.42780018 │\n",
       "│ 49  │ 2016 │ 19.1  │ Sweden   │ Male   │ 7.36874     │ 10.7443037  │\n",
       "│ 50  │ 2016 │ 10.5  │ Sweden   │ Female │ 7.36874     │ 10.7443037  │"
      ]
     },
     "execution_count": 94,
     "metadata": {},
     "output_type": "execute_result"
    }
   ],
   "source": [
    "# Filter the dataframe dropping rows where Sex is equal to both sexes.\n",
    "df = @where(df, :Sex .!= \"Both sexes\" )"
   ]
  },
  {
   "cell_type": "code",
   "execution_count": 95,
   "metadata": {},
   "outputs": [],
   "source": [
    "# Convert the year column to a date type.\n",
    "df[:year] = parse.(Date, String.(df[:year])) ;"
   ]
  },
  {
   "cell_type": "code",
   "execution_count": 96,
   "metadata": {},
   "outputs": [
    {
     "data": {
      "application/vnd.vegalite.v2+json": {
       "data": {
        "values": [
         {
          "Country": "Austria",
          "Freedom to make life choices": "0.888513982",
          "GDP": "10.69459534",
          "Generosity": "0.071537279",
          "Healthy life expectancy at birth": "71.64565277",
          "Life Ladder": 7.048071861,
          "Negative affect": "0.197423846",
          "Perceptions of corruption": "0.52364099",
          "Positive affect": "0.755902588",
          "Sex": "Male",
          "Social support": "0.926318586",
          "value": 23.9,
          "year": "2016-01-01"
         },
         {
          "Country": "Austria",
          "Freedom to make life choices": "0.888513982",
          "GDP": "10.69459534",
          "Generosity": "0.071537279",
          "Healthy life expectancy at birth": "71.64565277",
          "Life Ladder": 7.048071861,
          "Negative affect": "0.197423846",
          "Perceptions of corruption": "0.52364099",
          "Positive affect": "0.755902588",
          "Sex": "Female",
          "Social support": "0.926318586",
          "value": 7.7,
          "year": "2016-01-01"
         },
         {
          "Country": "Belgium",
          "Freedom to make life choices": "0.865759015",
          "GDP": "10.63217831",
          "Generosity": "-0.064254232",
          "Healthy life expectancy at birth": "71.52167511",
          "Life Ladder": 6.948936462,
          "Negative affect": "0.259653389",
          "Perceptions of corruption": "0.4966591",
          "Positive affect": "0.764590085",
          "Sex": "Male",
          "Social support": "0.928964078",
          "value": 27.8,
          "year": "2016-01-01"
         },
         {
          "Country": "Belgium",
          "Freedom to make life choices": "0.865759015",
          "GDP": "10.63217831",
          "Generosity": "-0.064254232",
          "Healthy life expectancy at birth": "71.52167511",
          "Life Ladder": 6.948936462,
          "Negative affect": "0.259653389",
          "Perceptions of corruption": "0.4966591",
          "Positive affect": "0.764590085",
          "Sex": "Female",
          "Social support": "0.928964078",
          "value": 13.8,
          "year": "2016-01-01"
         },
         {
          "Country": "Bulgaria",
          "Freedom to make life choices": "0.700265527",
          "GDP": "9.766366959",
          "Generosity": "-0.174192682",
          "Healthy life expectancy at birth": "68.2297287",
          "Life Ladder": 4.837560654,
          "Negative affect": "0.171699852",
          "Perceptions of corruption": "0.935988188",
          "Positive affect": "0.62185514",
          "Sex": "Male",
          "Social support": "0.92603606",
          "value": 18.2,
          "year": "2016-01-01"
         },
         {
          "Country": "Bulgaria",
          "Freedom to make life choices": "0.700265527",
          "GDP": "9.766366959",
          "Generosity": "-0.174192682",
          "Healthy life expectancy at birth": "68.2297287",
          "Life Ladder": 4.837560654,
          "Negative affect": "0.171699852",
          "Perceptions of corruption": "0.935988188",
          "Positive affect": "0.62185514",
          "Sex": "Female",
          "Social support": "0.92603606",
          "value": 5.1,
          "year": "2016-01-01"
         },
         {
          "Country": "Cyprus",
          "Freedom to make life choices": "0.756220996",
          "GDP": "10.32312202",
          "Generosity": "-0.03673432",
          "Healthy life expectancy at birth": "72.64193726",
          "Life Ladder": 5.794618607,
          "Negative affect": "0.336344689",
          "Perceptions of corruption": "0.897639513",
          "Positive affect": "0.742049396",
          "Sex": "Male",
          "Social support": "0.786438465",
          "value": 8.2,
          "year": "2016-01-01"
         },
         {
          "Country": "Cyprus",
          "Freedom to make life choices": "0.756220996",
          "GDP": "10.32312202",
          "Generosity": "-0.03673432",
          "Healthy life expectancy at birth": "72.64193726",
          "Life Ladder": 5.794618607,
          "Negative affect": "0.336344689",
          "Perceptions of corruption": "0.897639513",
          "Positive affect": "0.742049396",
          "Sex": "Female",
          "Social support": "0.786438465",
          "value": 2.3,
          "year": "2016-01-01"
         },
         {
          "Country": "Denmark",
          "Freedom to make life choices": "0.948230565",
          "GDP": "10.68310165",
          "Generosity": "0.131326869",
          "Healthy life expectancy at birth": "70.91555023",
          "Life Ladder": 7.55778265,
          "Negative affect": "0.207583427",
          "Perceptions of corruption": "0.209893376",
          "Positive affect": "0.836115718",
          "Sex": "Male",
          "Social support": "0.954451501",
          "value": 17.3,
          "year": "2016-01-01"
         },
         {
          "Country": "Denmark",
          "Freedom to make life choices": "0.948230565",
          "GDP": "10.68310165",
          "Generosity": "0.131326869",
          "Healthy life expectancy at birth": "70.91555023",
          "Life Ladder": 7.55778265,
          "Negative affect": "0.207583427",
          "Perceptions of corruption": "0.209893376",
          "Positive affect": "0.836115718",
          "Sex": "Female",
          "Social support": "0.954451501",
          "value": 8.2,
          "year": "2016-01-01"
         },
         {
          "Country": "Estonia",
          "Freedom to make life choices": "0.842770696",
          "GDP": "10.22024822",
          "Generosity": "-0.156858996",
          "Healthy life expectancy at birth": "67.37776184",
          "Life Ladder": 5.649675369,
          "Negative affect": "0.176869258",
          "Perceptions of corruption": "0.639085293",
          "Positive affect": "0.72625488",
          "Sex": "Male",
          "Social support": "0.937715113",
          "value": 30.6,
          "year": "2016-01-01"
         },
         {
          "Country": "Estonia",
          "Freedom to make life choices": "0.842770696",
          "GDP": "10.22024822",
          "Generosity": "-0.156858996",
          "Healthy life expectancy at birth": "67.37776184",
          "Life Ladder": 5.649675369,
          "Negative affect": "0.176869258",
          "Perceptions of corruption": "0.639085293",
          "Positive affect": "0.72625488",
          "Sex": "Female",
          "Social support": "0.937715113",
          "value": 6.6,
          "year": "2016-01-01"
         },
         {
          "Country": "Finland",
          "Freedom to make life choices": "0.948372185",
          "GDP": "10.56876278",
          "Generosity": "-0.035874676",
          "Healthy life expectancy at birth": "71.38269043",
          "Life Ladder": 7.659843445,
          "Negative affect": "0.181998447",
          "Perceptions of corruption": "0.249659568",
          "Positive affect": "0.797325075",
          "Sex": "Male",
          "Social support": "0.953940451",
          "value": 23.9,
          "year": "2016-01-01"
         },
         {
          "Country": "Finland",
          "Freedom to make life choices": "0.948372185",
          "GDP": "10.56876278",
          "Generosity": "-0.035874676",
          "Healthy life expectancy at birth": "71.38269043",
          "Life Ladder": 7.659843445,
          "Negative affect": "0.181998447",
          "Perceptions of corruption": "0.249659568",
          "Positive affect": "0.797325075",
          "Sex": "Female",
          "Social support": "0.953940451",
          "value": 8.1,
          "year": "2016-01-01"
         },
         {
          "Country": "France",
          "Freedom to make life choices": "0.786780477",
          "GDP": "10.53624725",
          "Generosity": "-0.101393685",
          "Healthy life expectancy at birth": "72.59750366",
          "Life Ladder": 6.475208759,
          "Negative affect": "0.27003625",
          "Perceptions of corruption": "0.622697055",
          "Positive affect": "0.772661328",
          "Sex": "Male",
          "Social support": "0.884922922",
          "value": 23.9,
          "year": "2016-01-01"
         },
         {
          "Country": "France",
          "Freedom to make life choices": "0.786780477",
          "GDP": "10.53624725",
          "Generosity": "-0.101393685",
          "Healthy life expectancy at birth": "72.59750366",
          "Life Ladder": 6.475208759,
          "Negative affect": "0.27003625",
          "Perceptions of corruption": "0.622697055",
          "Positive affect": "0.772661328",
          "Sex": "Female",
          "Social support": "0.884922922",
          "value": 11.7,
          "year": "2016-01-01"
         },
         {
          "Country": "Germany",
          "Freedom to make life choices": "0.870515049",
          "GDP": "10.70416832",
          "Generosity": "0.136947975",
          "Healthy life expectancy at birth": "70.86317444",
          "Life Ladder": 6.873763084,
          "Negative affect": "0.187254936",
          "Perceptions of corruption": "0.445922136",
          "Positive affect": "0.737745941",
          "Sex": "Male",
          "Social support": "0.906029284",
          "value": 19.7,
          "year": "2016-01-01"
         },
         {
          "Country": "Germany",
          "Freedom to make life choices": "0.870515049",
          "GDP": "10.70416832",
          "Generosity": "0.136947975",
          "Healthy life expectancy at birth": "70.86317444",
          "Life Ladder": 6.873763084,
          "Negative affect": "0.187254936",
          "Perceptions of corruption": "0.445922136",
          "Positive affect": "0.737745941",
          "Sex": "Female",
          "Social support": "0.906029284",
          "value": 7.7,
          "year": "2016-01-01"
         },
         {
          "Country": "Greece",
          "Freedom to make life choices": "0.481616855",
          "GDP": "10.1151228",
          "Generosity": "-0.267767459",
          "Healthy life expectancy at birth": "71.25013733",
          "Life Ladder": 5.302619457,
          "Negative affect": "0.336207509",
          "Perceptions of corruption": "0.898470819",
          "Positive affect": "0.700504363",
          "Sex": "Male",
          "Social support": "0.802605867",
          "value": 8.1,
          "year": "2016-01-01"
         },
         {
          "Country": "Greece",
          "Freedom to make life choices": "0.481616855",
          "GDP": "10.1151228",
          "Generosity": "-0.267767459",
          "Healthy life expectancy at birth": "71.25013733",
          "Life Ladder": 5.302619457,
          "Negative affect": "0.336207509",
          "Perceptions of corruption": "0.898470819",
          "Positive affect": "0.700504363",
          "Sex": "Female",
          "Social support": "0.802605867",
          "value": 2,
          "year": "2016-01-01"
         },
         {
          "Country": "Hungary",
          "Freedom to make life choices": "0.55395174",
          "GDP": "10.12352848",
          "Generosity": "-0.196067855",
          "Healthy life expectancy at birth": "67.30926514",
          "Life Ladder": 5.448901653,
          "Negative affect": "0.24332577",
          "Perceptions of corruption": "0.924185812",
          "Positive affect": "0.66591078",
          "Sex": "Male",
          "Social support": "0.899511576",
          "value": 29.7,
          "year": "2016-01-01"
         },
         {
          "Country": "Hungary",
          "Freedom to make life choices": "0.55395174",
          "GDP": "10.12352848",
          "Generosity": "-0.196067855",
          "Healthy life expectancy at birth": "67.30926514",
          "Life Ladder": 5.448901653,
          "Negative affect": "0.24332577",
          "Perceptions of corruption": "0.924185812",
          "Positive affect": "0.66591078",
          "Sex": "Female",
          "Social support": "0.899511576",
          "value": 9.6,
          "year": "2016-01-01"
         },
         {
          "Country": "Ireland",
          "Freedom to make life choices": "0.874589145",
          "GDP": "10.90115261",
          "Generosity": "0.171785638",
          "Healthy life expectancy at birth": "71.40406799",
          "Life Ladder": 7.04073143,
          "Negative affect": "0.211063311",
          "Perceptions of corruption": "0.398544312",
          "Positive affect": "0.809203029",
          "Sex": "Male",
          "Social support": "0.958144009",
          "value": 18.5,
          "year": "2016-01-01"
         },
         {
          "Country": "Ireland",
          "Freedom to make life choices": "0.874589145",
          "GDP": "10.90115261",
          "Generosity": "0.171785638",
          "Healthy life expectancy at birth": "71.40406799",
          "Life Ladder": 7.04073143,
          "Negative affect": "0.211063311",
          "Perceptions of corruption": "0.398544312",
          "Positive affect": "0.809203029",
          "Sex": "Female",
          "Social support": "0.958144009",
          "value": 4.6,
          "year": "2016-01-01"
         },
         {
          "Country": "Italy",
          "Freedom to make life choices": "0.623741627",
          "GDP": "10.43184376",
          "Generosity": "-0.087276623",
          "Healthy life expectancy at birth": "72.72756195",
          "Life Ladder": 5.95452404,
          "Negative affect": "0.339173585",
          "Perceptions of corruption": "0.902801216",
          "Positive affect": "0.685422838",
          "Sex": "Male",
          "Social support": "0.927212834",
          "value": 12.1,
          "year": "2016-01-01"
         },
         {
          "Country": "Italy",
          "Freedom to make life choices": "0.623741627",
          "GDP": "10.43184376",
          "Generosity": "-0.087276623",
          "Healthy life expectancy at birth": "72.72756195",
          "Life Ladder": 5.95452404,
          "Negative affect": "0.339173585",
          "Perceptions of corruption": "0.902801216",
          "Positive affect": "0.685422838",
          "Sex": "Female",
          "Social support": "0.927212834",
          "value": 4.5,
          "year": "2016-01-01"
         },
         {
          "Country": "Latvia",
          "Freedom to make life choices": "0.685299277",
          "GDP": "10.05293655",
          "Generosity": "-0.162657723",
          "Healthy life expectancy at birth": "65.52488708",
          "Life Ladder": 5.940446377,
          "Negative affect": "0.231383532",
          "Perceptions of corruption": "0.867639601",
          "Positive affect": "0.653751254",
          "Sex": "Male",
          "Social support": "0.917073965",
          "value": 37.6,
          "year": "2016-01-01"
         },
         {
          "Country": "Latvia",
          "Freedom to make life choices": "0.685299277",
          "GDP": "10.05293655",
          "Generosity": "-0.162657723",
          "Healthy life expectancy at birth": "65.52488708",
          "Life Ladder": 5.940446377,
          "Negative affect": "0.231383532",
          "Perceptions of corruption": "0.867639601",
          "Positive affect": "0.653751254",
          "Sex": "Female",
          "Social support": "0.917073965",
          "value": 7.3,
          "year": "2016-01-01"
         },
         {
          "Country": "Lithuania",
          "Freedom to make life choices": "0.614239335",
          "GDP": "10.21611309",
          "Generosity": "-0.27387473",
          "Healthy life expectancy at birth": "65.05998993",
          "Life Ladder": 5.865552425,
          "Negative affect": "0.249855742",
          "Perceptions of corruption": "0.949392676",
          "Positive affect": "0.594167292",
          "Sex": "Male",
          "Social support": "0.937873363",
          "value": 58.1,
          "year": "2016-01-01"
         },
         {
          "Country": "Lithuania",
          "Freedom to make life choices": "0.614239335",
          "GDP": "10.21611309",
          "Generosity": "-0.27387473",
          "Healthy life expectancy at birth": "65.05998993",
          "Life Ladder": 5.865552425,
          "Negative affect": "0.249855742",
          "Perceptions of corruption": "0.949392676",
          "Positive affect": "0.594167292",
          "Sex": "Female",
          "Social support": "0.937873363",
          "value": 9.5,
          "year": "2016-01-01"
         },
         {
          "Country": "Luxembourg",
          "Freedom to make life choices": "0.882365346",
          "GDP": "11.45924854",
          "Generosity": "0.003842965",
          "Healthy life expectancy at birth": "72.89732361",
          "Life Ladder": 6.967340946,
          "Negative affect": "0.192300707",
          "Perceptions of corruption": "0.356336325",
          "Positive affect": "0.757949769",
          "Sex": "Male",
          "Social support": "0.941260576",
          "value": 18.6,
          "year": "2016-01-01"
         },
         {
          "Country": "Luxembourg",
          "Freedom to make life choices": "0.882365346",
          "GDP": "11.45924854",
          "Generosity": "0.003842965",
          "Healthy life expectancy at birth": "72.89732361",
          "Life Ladder": 6.967340946,
          "Negative affect": "0.192300707",
          "Perceptions of corruption": "0.356336325",
          "Positive affect": "0.757949769",
          "Sex": "Female",
          "Social support": "0.941260576",
          "value": 8.3,
          "year": "2016-01-01"
         },
         {
          "Country": "Malta",
          "Freedom to make life choices": "0.916023612",
          "GDP": "NA",
          "Generosity": "NA",
          "Healthy life expectancy at birth": "71.65420532",
          "Life Ladder": 6.590842247,
          "Negative affect": "0.355443776",
          "Perceptions of corruption": "0.696494639",
          "Positive affect": "0.687271595",
          "Sex": "Male",
          "Social support": "0.930369377",
          "value": 12.1,
          "year": "2016-01-01"
         },
         {
          "Country": "Malta",
          "Freedom to make life choices": "0.916023612",
          "GDP": "NA",
          "Generosity": "NA",
          "Healthy life expectancy at birth": "71.65420532",
          "Life Ladder": 6.590842247,
          "Negative affect": "0.355443776",
          "Perceptions of corruption": "0.696494639",
          "Positive affect": "0.687271595",
          "Sex": "Female",
          "Social support": "0.930369377",
          "value": 2.8,
          "year": "2016-01-01"
         },
         {
          "Country": "Netherlands",
          "Freedom to make life choices": "0.907310009",
          "GDP": "10.75715065",
          "Generosity": "0.226082265",
          "Healthy life expectancy at birth": "71.26724243",
          "Life Ladder": 7.540877342,
          "Negative affect": "0.214850739",
          "Perceptions of corruption": "0.43330425",
          "Positive affect": "0.838432372",
          "Sex": "Male",
          "Social support": "0.925944209",
          "value": 16.2,
          "year": "2016-01-01"
         },
         {
          "Country": "Netherlands",
          "Freedom to make life choices": "0.907310009",
          "GDP": "10.75715065",
          "Generosity": "0.226082265",
          "Healthy life expectancy at birth": "71.26724243",
          "Life Ladder": 7.540877342,
          "Negative affect": "0.214850739",
          "Perceptions of corruption": "0.43330425",
          "Positive affect": "0.838432372",
          "Sex": "Female",
          "Social support": "0.925944209",
          "value": 9,
          "year": "2016-01-01"
         },
         {
          "Country": "Poland",
          "Freedom to make life choices": "0.870707512",
          "GDP": "10.15000153",
          "Generosity": "-0.100947499",
          "Healthy life expectancy at birth": "67.66214752",
          "Life Ladder": 6.162076473,
          "Negative affect": "0.223536044",
          "Perceptions of corruption": "0.847753942",
          "Positive affect": "0.77662462",
          "Sex": "Male",
          "Social support": "0.91739881",
          "value": 28.9,
          "year": "2016-01-01"
         },
         {
          "Country": "Poland",
          "Freedom to make life choices": "0.870707512",
          "GDP": "10.15000153",
          "Generosity": "-0.100947499",
          "Healthy life expectancy at birth": "67.66214752",
          "Life Ladder": 6.162076473,
          "Negative affect": "0.223536044",
          "Perceptions of corruption": "0.847753942",
          "Positive affect": "0.77662462",
          "Sex": "Female",
          "Social support": "0.91739881",
          "value": 4.3,
          "year": "2016-01-01"
         },
         {
          "Country": "Portugal",
          "Freedom to make life choices": "0.83806932",
          "GDP": "10.20860291",
          "Generosity": "-0.232479244",
          "Healthy life expectancy at birth": "70.75627899",
          "Life Ladder": 5.446637154,
          "Negative affect": "0.326252729",
          "Perceptions of corruption": "0.922192395",
          "Positive affect": "0.683566213",
          "Sex": "Male",
          "Social support": "0.90463537",
          "value": 22.2,
          "year": "2016-01-01"
         },
         {
          "Country": "Portugal",
          "Freedom to make life choices": "0.83806932",
          "GDP": "10.20860291",
          "Generosity": "-0.232479244",
          "Healthy life expectancy at birth": "70.75627899",
          "Life Ladder": 5.446637154,
          "Negative affect": "0.326252729",
          "Perceptions of corruption": "0.922192395",
          "Positive affect": "0.683566213",
          "Sex": "Female",
          "Social support": "0.90463537",
          "value": 6.5,
          "year": "2016-01-01"
         },
         {
          "Country": "Romania",
          "Freedom to make life choices": "0.8217206",
          "GDP": "9.942670822",
          "Generosity": "-0.118267216",
          "Healthy life expectancy at birth": "66.94844818",
          "Life Ladder": 5.96887064,
          "Negative affect": "0.257763505",
          "Perceptions of corruption": "0.949044526",
          "Positive affect": "0.694415331",
          "Sex": "Male",
          "Social support": "0.809229195",
          "value": 17.9,
          "year": "2016-01-01"
         },
         {
          "Country": "Romania",
          "Freedom to make life choices": "0.8217206",
          "GDP": "9.942670822",
          "Generosity": "-0.118267216",
          "Healthy life expectancy at birth": "66.94844818",
          "Life Ladder": 5.96887064,
          "Negative affect": "0.257763505",
          "Perceptions of corruption": "0.949044526",
          "Positive affect": "0.694415331",
          "Sex": "Female",
          "Social support": "0.809229195",
          "value": 3.3,
          "year": "2016-01-01"
         },
         {
          "Country": "Slovakia",
          "Freedom to make life choices": "0.700098515",
          "GDP": "10.24734116",
          "Generosity": "-0.075128973",
          "Healthy life expectancy at birth": "68.16325378",
          "Life Ladder": 5.993163109,
          "Negative affect": "0.232091576",
          "Perceptions of corruption": "0.916609168",
          "Positive affect": "0.774416089",
          "Sex": "Male",
          "Social support": "0.945179105",
          "value": 22.7,
          "year": "2016-01-01"
         },
         {
          "Country": "Slovakia",
          "Freedom to make life choices": "0.700098515",
          "GDP": "10.24734116",
          "Generosity": "-0.075128973",
          "Healthy life expectancy at birth": "68.16325378",
          "Life Ladder": 5.993163109,
          "Negative affect": "0.232091576",
          "Perceptions of corruption": "0.916609168",
          "Positive affect": "0.774416089",
          "Sex": "Female",
          "Social support": "0.945179105",
          "value": 3.5,
          "year": "2016-01-01"
         },
         {
          "Country": "Slovenia",
          "Freedom to make life choices": "0.903551102",
          "GDP": "10.28735638",
          "Generosity": "-0.061483312",
          "Healthy life expectancy at birth": "70.80030823",
          "Life Ladder": 5.936821461,
          "Negative affect": "0.271624178",
          "Perceptions of corruption": "0.838474393",
          "Positive affect": "0.626205564",
          "Sex": "Male",
          "Social support": "0.934487343",
          "value": 30.4,
          "year": "2016-01-01"
         },
         {
          "Country": "Slovenia",
          "Freedom to make life choices": "0.903551102",
          "GDP": "10.28735638",
          "Generosity": "-0.061483312",
          "Healthy life expectancy at birth": "70.80030823",
          "Life Ladder": 5.936821461,
          "Negative affect": "0.271624178",
          "Perceptions of corruption": "0.838474393",
          "Positive affect": "0.626205564",
          "Sex": "Female",
          "Social support": "0.934487343",
          "value": 6.9,
          "year": "2016-01-01"
         },
         {
          "Country": "Spain",
          "Freedom to make life choices": "0.768173754",
          "GDP": "10.42780018",
          "Generosity": "-0.058965199",
          "Healthy life expectancy at birth": "73.95972443",
          "Life Ladder": 6.318612099,
          "Negative affect": "0.300829351",
          "Perceptions of corruption": "0.818558574",
          "Positive affect": "0.652816117",
          "Sex": "Male",
          "Social support": "0.941736817",
          "value": 13.1,
          "year": "2016-01-01"
         },
         {
          "Country": "Spain",
          "Freedom to make life choices": "0.768173754",
          "GDP": "10.42780018",
          "Generosity": "-0.058965199",
          "Healthy life expectancy at birth": "73.95972443",
          "Life Ladder": 6.318612099,
          "Negative affect": "0.300829351",
          "Perceptions of corruption": "0.818558574",
          "Positive affect": "0.652816117",
          "Sex": "Female",
          "Social support": "0.941736817",
          "value": 4.5,
          "year": "2016-01-01"
         },
         {
          "Country": "Sweden",
          "Freedom to make life choices": "0.918036401",
          "GDP": "10.7443037",
          "Generosity": "0.131494105",
          "Healthy life expectancy at birth": "71.96144867",
          "Life Ladder": 7.368744373,
          "Negative affect": "0.200606912",
          "Perceptions of corruption": "0.246182442",
          "Positive affect": "0.815695107",
          "Sex": "Male",
          "Social support": "0.912060678",
          "value": 19.1,
          "year": "2016-01-01"
         },
         {
          "Country": "Sweden",
          "Freedom to make life choices": "0.918036401",
          "GDP": "10.7443037",
          "Generosity": "0.131494105",
          "Healthy life expectancy at birth": "71.96144867",
          "Life Ladder": 7.368744373,
          "Negative affect": "0.200606912",
          "Perceptions of corruption": "0.246182442",
          "Positive affect": "0.815695107",
          "Sex": "Female",
          "Social support": "0.912060678",
          "value": 10.5,
          "year": "2016-01-01"
         }
        ]
       },
       "encoding": {
        "color": {
         "field": "Sex",
         "scale": {
          "range": [
           "#AEBD38",
           "#68829E"
          ]
         },
         "type": "nominal"
        },
        "x": {
         "field": "Country",
         "title": "Country",
         "type": "nominal"
        },
        "y": {
         "field": "value",
         "title": "Suicide Rates (Per 100,000 Population)",
         "type": "quantitative"
        }
       },
       "mark": "bar",
       "title": "Suicide Rates For Males and Females in Europe"
      },
      "image/png": "[encoded data removed]",
      "image/svg+xml": [
       "<?xml version=\"1.0\" encoding=\"utf-8\"?>\n",
       "<!DOCTYPE svg PUBLIC \"-//W3C//DTD SVG 1.1//EN\" \"http://www.w3.org/Graphics/SVG/1.1/DTD/svg11.dtd\">\n",
       "<svg class=\"marks\" width=\"666\" height=\"409\" viewBox=\"0 0 666 409\" version=\"1.1\" xmlns=\"http://www.w3.org/2000/svg\" xmlns:xlink=\"http://www.w3.org/1999/xlink\"><g transform=\"translate(53,91)\"><g class=\"mark-group role-frame root\"><g transform=\"translate(0,0)\"><path class=\"background\" d=\"M0.5,0.5h525v200h-525Z\" style=\"fill: none; stroke: #ddd;\"></path><g><g class=\"mark-group role-axis\"><g transform=\"translate(0.5,0.5)\"><path class=\"background\" d=\"M0,0h0v0h0Z\" style=\"pointer-events: none; fill: none;\"></path><g><g class=\"mark-rule role-axis-grid\" style=\"pointer-events: none;\"><line transform=\"translate(0,200)\" x2=\"525\" y2=\"0\" style=\"fill: none; stroke: #ddd; stroke-width: 1; opacity: 1;\"></line><line transform=\"translate(0,171)\" x2=\"525\" y2=\"0\" style=\"fill: none; stroke: #ddd; stroke-width: 1; opacity: 1;\"></line><line transform=\"translate(0,143)\" x2=\"525\" y2=\"0\" style=\"fill: none; stroke: #ddd; stroke-width: 1; opacity: 1;\"></line><line transform=\"translate(0,114)\" x2=\"525\" y2=\"0\" style=\"fill: none; stroke: #ddd; stroke-width: 1; opacity: 1;\"></line><line transform=\"translate(0,86)\" x2=\"525\" y2=\"0\" style=\"fill: none; stroke: #ddd; stroke-width: 1; opacity: 1;\"></line><line transform=\"translate(0,57)\" x2=\"525\" y2=\"0\" style=\"fill: none; stroke: #ddd; stroke-width: 1; opacity: 1;\"></line><line transform=\"translate(0,29)\" x2=\"525\" y2=\"0\" style=\"fill: none; stroke: #ddd; stroke-width: 1; opacity: 1;\"></line><line transform=\"translate(0,0)\" x2=\"525\" y2=\"0\" style=\"fill: none; stroke: #ddd; stroke-width: 1; opacity: 1;\"></line></g></g></g></g><g class=\"mark-rect role-mark marks\"><path d=\"M1.0500000000000114,131.71428571428572h18.900000000000002v68.28571428571428h-18.900000000000002Z\" style=\"fill: #68829E;\"></path><path d=\"M1.0500000000000114,109.71428571428572h18.900000000000002v22h-18.900000000000002Z\" style=\"fill: #AEBD38;\"></path><path d=\"M22.05000000000001,120.57142857142857h18.900000000000002v79.42857142857143h-18.900000000000002Z\" style=\"fill: #68829E;\"></path><path d=\"M22.05000000000001,81.14285714285714h18.900000000000002v39.42857142857143h-18.900000000000002Z\" style=\"fill: #AEBD38;\"></path><path d=\"M43.05000000000001,148h18.900000000000002v52h-18.900000000000002Z\" style=\"fill: #68829E;\"></path><path d=\"M43.05000000000001,133.42857142857144h18.900000000000002v14.571428571428555h-18.900000000000002Z\" style=\"fill: #AEBD38;\"></path><path d=\"M64.05000000000001,176.57142857142858h18.900000000000002v23.428571428571416h-18.900000000000002Z\" style=\"fill: #68829E;\"></path><path d=\"M64.05000000000001,170h18.900000000000002v6.571428571428584h-18.900000000000002Z\" style=\"fill: #AEBD38;\"></path><path d=\"M85.05000000000001,150.57142857142856h18.900000000000002v49.428571428571445h-18.900000000000002Z\" style=\"fill: #68829E;\"></path><path d=\"M85.05000000000001,127.14285714285715h18.900000000000002v23.428571428571402h-18.900000000000002Z\" style=\"fill: #AEBD38;\"></path><path d=\"M106.05000000000001,112.57142857142857h18.900000000000002v87.42857142857143h-18.900000000000002Z\" style=\"fill: #68829E;\"></path><path d=\"M106.05000000000001,93.71428571428571h18.900000000000002v18.85714285714286h-18.900000000000002Z\" style=\"fill: #AEBD38;\"></path><path d=\"M127.05000000000001,131.71428571428572h18.900000000000002v68.28571428571428h-18.900000000000002Z\" style=\"fill: #68829E;\"></path><path d=\"M127.05000000000001,108.57142857142857h18.900000000000002v23.142857142857153h-18.900000000000002Z\" style=\"fill: #AEBD38;\"></path><path d=\"M148.05,131.71428571428572h18.900000000000002v68.28571428571428h-18.900000000000002Z\" style=\"fill: #68829E;\"></path><path d=\"M148.05,98.2857142857143h18.900000000000002v33.428571428571416h-18.900000000000002Z\" style=\"fill: #AEBD38;\"></path><path d=\"M169.05,143.71428571428572h18.900000000000002v56.28571428571428h-18.900000000000002Z\" style=\"fill: #68829E;\"></path><path d=\"M169.05,121.71428571428572h18.900000000000002v22h-18.900000000000002Z\" style=\"fill: #AEBD38;\"></path><path d=\"M190.05,176.85714285714286h18.900000000000002v23.14285714285714h-18.900000000000002Z\" style=\"fill: #68829E;\"></path><path d=\"M190.05,171.14285714285714h18.900000000000002v5.714285714285722h-18.900000000000002Z\" style=\"fill: #AEBD38;\"></path><path d=\"M211.05,115.14285714285715h18.900000000000002v84.85714285714285h-18.900000000000002Z\" style=\"fill: #68829E;\"></path><path d=\"M211.05,87.71428571428572h18.900000000000002v27.42857142857143h-18.900000000000002Z\" style=\"fill: #AEBD38;\"></path><path d=\"M232.05,147.14285714285714h18.900000000000002v52.85714285714286h-18.900000000000002Z\" style=\"fill: #68829E;\"></path><path d=\"M232.05,134h18.900000000000002v13.142857142857139h-18.900000000000002Z\" style=\"fill: #AEBD38;\"></path><path d=\"M253.05,165.42857142857144h18.900000000000002v34.571428571428555h-18.900000000000002Z\" style=\"fill: #68829E;\"></path><path d=\"M253.05,152.57142857142856h18.900000000000002v12.85714285714289h-18.900000000000002Z\" style=\"fill: #AEBD38;\"></path><path d=\"M274.05,92.57142857142857h18.900000000000002v107.42857142857143h-18.900000000000002Z\" style=\"fill: #68829E;\"></path><path d=\"M274.05,71.71428571428572h18.900000000000002v20.857142857142847h-18.900000000000002Z\" style=\"fill: #AEBD38;\"></path><path d=\"M295.05,34h18.900000000000002v166h-18.900000000000002Z\" style=\"fill: #68829E;\"></path><path d=\"M295.05,6.857142857142861h18.900000000000002v27.14285714285714h-18.900000000000002Z\" style=\"fill: #AEBD38;\"></path><path d=\"M316.05,146.85714285714286h18.900000000000002v53.14285714285714h-18.900000000000002Z\" style=\"fill: #68829E;\"></path><path d=\"M316.05,123.14285714285714h18.900000000000002v23.714285714285722h-18.900000000000002Z\" style=\"fill: #AEBD38;\"></path><path d=\"M337.05,165.42857142857144h18.900000000000002v34.571428571428555h-18.900000000000002Z\" style=\"fill: #68829E;\"></path><path d=\"M337.05,157.42857142857144h18.900000000000002v8h-18.900000000000002Z\" style=\"fill: #AEBD38;\"></path><path d=\"M358.05,153.71428571428572h18.900000000000002v46.28571428571428h-18.900000000000002Z\" style=\"fill: #68829E;\"></path><path d=\"M358.05,128h18.900000000000002v25.714285714285722h-18.900000000000002Z\" style=\"fill: #AEBD38;\"></path><path d=\"M379.05,117.42857142857144h18.900000000000002v82.57142857142856h-18.900000000000002Z\" style=\"fill: #68829E;\"></path><path d=\"M379.05,105.14285714285717h18.900000000000002v12.285714285714278h-18.900000000000002Z\" style=\"fill: #AEBD38;\"></path><path d=\"M400.05,136.57142857142858h18.900000000000002v63.428571428571416h-18.900000000000002Z\" style=\"fill: #68829E;\"></path><path d=\"M400.05,118h18.900000000000002v18.571428571428584h-18.900000000000002Z\" style=\"fill: #AEBD38;\"></path><path d=\"M421.05,148.85714285714286h18.900000000000002v51.14285714285714h-18.900000000000002Z\" style=\"fill: #68829E;\"></path><path d=\"M421.05,139.42857142857144h18.900000000000002v9.428571428571416h-18.900000000000002Z\" style=\"fill: #AEBD38;\"></path><path d=\"M442.05,135.14285714285714h18.900000000000002v64.85714285714286h-18.900000000000002Z\" style=\"fill: #68829E;\"></path><path d=\"M442.05,125.14285714285714h18.900000000000002v10h-18.900000000000002Z\" style=\"fill: #AEBD38;\"></path><path d=\"M463.05,113.14285714285714h18.900000000000002v86.85714285714286h-18.900000000000002Z\" style=\"fill: #68829E;\"></path><path d=\"M463.05,93.42857142857144h18.900000000000002v19.714285714285694h-18.900000000000002Z\" style=\"fill: #AEBD38;\"></path><path d=\"M484.05,162.57142857142856h18.900000000000002v37.428571428571445h-18.900000000000002Z\" style=\"fill: #68829E;\"></path><path d=\"M484.05,149.71428571428572h18.900000000000002v12.857142857142833h-18.900000000000002Z\" style=\"fill: #AEBD38;\"></path><path d=\"M505.05,145.42857142857144h18.900000000000002v54.571428571428555h-18.900000000000002Z\" style=\"fill: #68829E;\"></path><path d=\"M505.05,115.42857142857143h18.900000000000002v30.000000000000014h-18.900000000000002Z\" style=\"fill: #AEBD38;\"></path></g><g class=\"mark-group role-legend\"><g transform=\"translate(543,0)\"><path class=\"background\" d=\"M0,0h65v42h-65Z\" style=\"pointer-events: none; fill: none;\"></path><g><g class=\"mark-group role-legend-entry\"><g transform=\"translate(0,16)\"><path class=\"background\" d=\"M0,0h0v0h0Z\" style=\"pointer-events: none; fill: none;\"></path><g><g class=\"mark-group role-scope\"><g transform=\"translate(0,0)\"><path class=\"background\" d=\"M0,0h65v12h-65Z\" style=\"pointer-events: none; fill: none; opacity: 1;\"></path><g><g class=\"mark-symbol role-legend-symbol\" style=\"pointer-events: none;\"><path transform=\"translate(6,6)\" d=\"M-5,-5h10v10h-10Z\" style=\"fill: #AEBD38; stroke-width: 1.5; opacity: 1;\"></path></g><g class=\"mark-text role-legend-label\" style=\"pointer-events: none;\"><text text-anchor=\"start\" transform=\"translate(16,9)\" style=\"font-family: sans-serif; font-size: 10px; fill: #000; opacity: 1;\">Female</text></g></g></g><g transform=\"translate(0,14)\"><path class=\"background\" d=\"M0,0h65v12h-65Z\" style=\"pointer-events: none; fill: none; opacity: 1;\"></path><g><g class=\"mark-symbol role-legend-symbol\" style=\"pointer-events: none;\"><path transform=\"translate(6,6)\" d=\"M-5,-5h10v10h-10Z\" style=\"fill: #68829E; stroke-width: 1.5; opacity: 1;\"></path></g><g class=\"mark-text role-legend-label\" style=\"pointer-events: none;\"><text text-anchor=\"start\" transform=\"translate(16,9)\" style=\"font-family: sans-serif; font-size: 10px; fill: #000; opacity: 1;\">Male</text></g></g></g></g></g></g></g><g class=\"mark-text role-legend-title\" style=\"pointer-events: none;\"><text text-anchor=\"start\" transform=\"translate(0,9)\" style=\"font-family: sans-serif; font-size: 11px; font-weight: bold; fill: #000; opacity: 1;\">Sex</text></g></g></g></g><g class=\"mark-text role-title\" style=\"pointer-events: none;\"><text text-anchor=\"middle\" transform=\"translate(280.5,-75)\" style=\"font-family: sans-serif; font-size: 13px; font-weight: bold; fill: #000; opacity: 1;\">Suicide Rates For Males and Females in Europe</text></g><g class=\"mark-group role-axis\"><g transform=\"translate(0.5,200.5)\"><path class=\"background\" d=\"M0,0h0v0h0Z\" style=\"pointer-events: none; fill: none;\"></path><g><g class=\"mark-rule role-axis-tick\" style=\"pointer-events: none;\"><line transform=\"translate(10,0)\" x2=\"0\" y2=\"5\" style=\"fill: none; stroke: #888; stroke-width: 1; opacity: 1;\"></line><line transform=\"translate(31,0)\" x2=\"0\" y2=\"5\" style=\"fill: none; stroke: #888; stroke-width: 1; opacity: 1;\"></line><line transform=\"translate(52,0)\" x2=\"0\" y2=\"5\" style=\"fill: none; stroke: #888; stroke-width: 1; opacity: 1;\"></line><line transform=\"translate(73,0)\" x2=\"0\" y2=\"5\" style=\"fill: none; stroke: #888; stroke-width: 1; opacity: 1;\"></line><line transform=\"translate(94,0)\" x2=\"0\" y2=\"5\" style=\"fill: none; stroke: #888; stroke-width: 1; opacity: 1;\"></line><line transform=\"translate(115,0)\" x2=\"0\" y2=\"5\" style=\"fill: none; stroke: #888; stroke-width: 1; opacity: 1;\"></line><line transform=\"translate(136,0)\" x2=\"0\" y2=\"5\" style=\"fill: none; stroke: #888; stroke-width: 1; opacity: 1;\"></line><line transform=\"translate(157,0)\" x2=\"0\" y2=\"5\" style=\"fill: none; stroke: #888; stroke-width: 1; opacity: 1;\"></line><line transform=\"translate(178,0)\" x2=\"0\" y2=\"5\" style=\"fill: none; stroke: #888; stroke-width: 1; opacity: 1;\"></line><line transform=\"translate(199,0)\" x2=\"0\" y2=\"5\" style=\"fill: none; stroke: #888; stroke-width: 1; opacity: 1;\"></line><line transform=\"translate(220,0)\" x2=\"0\" y2=\"5\" style=\"fill: none; stroke: #888; stroke-width: 1; opacity: 1;\"></line><line transform=\"translate(241,0)\" x2=\"0\" y2=\"5\" style=\"fill: none; stroke: #888; stroke-width: 1; opacity: 1;\"></line><line transform=\"translate(262,0)\" x2=\"0\" y2=\"5\" style=\"fill: none; stroke: #888; stroke-width: 1; opacity: 1;\"></line><line transform=\"translate(283,0)\" x2=\"0\" y2=\"5\" style=\"fill: none; stroke: #888; stroke-width: 1; opacity: 1;\"></line><line transform=\"translate(304,0)\" x2=\"0\" y2=\"5\" style=\"fill: none; stroke: #888; stroke-width: 1; opacity: 1;\"></line><line transform=\"translate(325,0)\" x2=\"0\" y2=\"5\" style=\"fill: none; stroke: #888; stroke-width: 1; opacity: 1;\"></line><line transform=\"translate(346,0)\" x2=\"0\" y2=\"5\" style=\"fill: none; stroke: #888; stroke-width: 1; opacity: 1;\"></line><line transform=\"translate(367,0)\" x2=\"0\" y2=\"5\" style=\"fill: none; stroke: #888; stroke-width: 1; opacity: 1;\"></line><line transform=\"translate(388,0)\" x2=\"0\" y2=\"5\" style=\"fill: none; stroke: #888; stroke-width: 1; opacity: 1;\"></line><line transform=\"translate(409,0)\" x2=\"0\" y2=\"5\" style=\"fill: none; stroke: #888; stroke-width: 1; opacity: 1;\"></line><line transform=\"translate(430,0)\" x2=\"0\" y2=\"5\" style=\"fill: none; stroke: #888; stroke-width: 1; opacity: 1;\"></line><line transform=\"translate(451,0)\" x2=\"0\" y2=\"5\" style=\"fill: none; stroke: #888; stroke-width: 1; opacity: 1;\"></line><line transform=\"translate(472,0)\" x2=\"0\" y2=\"5\" style=\"fill: none; stroke: #888; stroke-width: 1; opacity: 1;\"></line><line transform=\"translate(493,0)\" x2=\"0\" y2=\"5\" style=\"fill: none; stroke: #888; stroke-width: 1; opacity: 1;\"></line><line transform=\"translate(514,0)\" x2=\"0\" y2=\"5\" style=\"fill: none; stroke: #888; stroke-width: 1; opacity: 1;\"></line></g><g class=\"mark-text role-axis-label\" style=\"pointer-events: none;\"><text text-anchor=\"end\" transform=\"translate(9.500000000000012,7) rotate(270) translate(0,3)\" style=\"font-family: sans-serif; font-size: 10px; fill: #000; opacity: 1;\">Austria</text><text text-anchor=\"end\" transform=\"translate(30.500000000000014,7) rotate(270) translate(0,3)\" style=\"font-family: sans-serif; font-size: 10px; fill: #000; opacity: 1;\">Belgium</text><text text-anchor=\"end\" transform=\"translate(51.500000000000014,7) rotate(270) translate(0,3)\" style=\"font-family: sans-serif; font-size: 10px; fill: #000; opacity: 1;\">Bulgaria</text><text text-anchor=\"end\" transform=\"translate(72.50000000000001,7) rotate(270) translate(0,3)\" style=\"font-family: sans-serif; font-size: 10px; fill: #000; opacity: 1;\">Cyprus</text><text text-anchor=\"end\" transform=\"translate(93.50000000000001,7) rotate(270) translate(0,3)\" style=\"font-family: sans-serif; font-size: 10px; fill: #000; opacity: 1;\">Denmark</text><text text-anchor=\"end\" transform=\"translate(114.50000000000001,7) rotate(270) translate(0,3)\" style=\"font-family: sans-serif; font-size: 10px; fill: #000; opacity: 1;\">Estonia</text><text text-anchor=\"end\" transform=\"translate(135.5,7) rotate(270) translate(0,3)\" style=\"font-family: sans-serif; font-size: 10px; fill: #000; opacity: 1;\">Finland</text><text text-anchor=\"end\" transform=\"translate(156.5,7) rotate(270) translate(0,3)\" style=\"font-family: sans-serif; font-size: 10px; fill: #000; opacity: 1;\">France</text><text text-anchor=\"end\" transform=\"translate(177.5,7) rotate(270) translate(0,3)\" style=\"font-family: sans-serif; font-size: 10px; fill: #000; opacity: 1;\">Germany</text><text text-anchor=\"end\" transform=\"translate(198.5,7) rotate(270) translate(0,3)\" style=\"font-family: sans-serif; font-size: 10px; fill: #000; opacity: 1;\">Greece</text><text text-anchor=\"end\" transform=\"translate(219.5,7) rotate(270) translate(0,3)\" style=\"font-family: sans-serif; font-size: 10px; fill: #000; opacity: 1;\">Hungary</text><text text-anchor=\"end\" transform=\"translate(240.5,7) rotate(270) translate(0,3)\" style=\"font-family: sans-serif; font-size: 10px; fill: #000; opacity: 1;\">Ireland</text><text text-anchor=\"end\" transform=\"translate(261.5,7) rotate(270) translate(0,3)\" style=\"font-family: sans-serif; font-size: 10px; fill: #000; opacity: 1;\">Italy</text><text text-anchor=\"end\" transform=\"translate(282.5,7) rotate(270) translate(0,3)\" style=\"font-family: sans-serif; font-size: 10px; fill: #000; opacity: 1;\">Latvia</text><text text-anchor=\"end\" transform=\"translate(303.5,7) rotate(270) translate(0,3)\" style=\"font-family: sans-serif; font-size: 10px; fill: #000; opacity: 1;\">Lithuania</text><text text-anchor=\"end\" transform=\"translate(324.5,7) rotate(270) translate(0,3)\" style=\"font-family: sans-serif; font-size: 10px; fill: #000; opacity: 1;\">Luxembourg</text><text text-anchor=\"end\" transform=\"translate(345.5,7) rotate(270) translate(0,3)\" style=\"font-family: sans-serif; font-size: 10px; fill: #000; opacity: 1;\">Malta</text><text text-anchor=\"end\" transform=\"translate(366.5,7) rotate(270) translate(0,3)\" style=\"font-family: sans-serif; font-size: 10px; fill: #000; opacity: 1;\">Netherlands</text><text text-anchor=\"end\" transform=\"translate(387.5,7) rotate(270) translate(0,3)\" style=\"font-family: sans-serif; font-size: 10px; fill: #000; opacity: 1;\">Poland</text><text text-anchor=\"end\" transform=\"translate(408.5,7) rotate(270) translate(0,3)\" style=\"font-family: sans-serif; font-size: 10px; fill: #000; opacity: 1;\">Portugal</text><text text-anchor=\"end\" transform=\"translate(429.5,7) rotate(270) translate(0,3)\" style=\"font-family: sans-serif; font-size: 10px; fill: #000; opacity: 1;\">Romania</text><text text-anchor=\"end\" transform=\"translate(450.5,7) rotate(270) translate(0,3)\" style=\"font-family: sans-serif; font-size: 10px; fill: #000; opacity: 1;\">Slovakia</text><text text-anchor=\"end\" transform=\"translate(471.5,7) rotate(270) translate(0,3)\" style=\"font-family: sans-serif; font-size: 10px; fill: #000; opacity: 1;\">Slovenia</text><text text-anchor=\"end\" transform=\"translate(492.5,7) rotate(270) translate(0,3)\" style=\"font-family: sans-serif; font-size: 10px; fill: #000; opacity: 1;\">Spain</text><text text-anchor=\"end\" transform=\"translate(513.5,7) rotate(270) translate(0,3)\" style=\"font-family: sans-serif; font-size: 10px; fill: #000; opacity: 1;\">Sweden</text></g><g class=\"mark-rule role-axis-domain\" style=\"pointer-events: none;\"><line transform=\"translate(0,0)\" x2=\"525\" y2=\"0\" style=\"fill: none; stroke: #888; stroke-width: 1; opacity: 1;\"></line></g><g class=\"mark-text role-axis-title\" style=\"pointer-events: none;\"><text text-anchor=\"middle\" transform=\"translate(262.5,109)\" style=\"font-family: sans-serif; font-size: 11px; font-weight: bold; fill: #000; opacity: 1;\">Country</text></g></g></g></g><g class=\"mark-group role-axis\"><g transform=\"translate(0.5,0.5)\"><path class=\"background\" d=\"M0,0h0v0h0Z\" style=\"pointer-events: none; fill: none;\"></path><g><g class=\"mark-rule role-axis-tick\" style=\"pointer-events: none;\"><line transform=\"translate(0,200)\" x2=\"-5\" y2=\"0\" style=\"fill: none; stroke: #888; stroke-width: 1; opacity: 1;\"></line><line transform=\"translate(0,171)\" x2=\"-5\" y2=\"0\" style=\"fill: none; stroke: #888; stroke-width: 1; opacity: 1;\"></line><line transform=\"translate(0,143)\" x2=\"-5\" y2=\"0\" style=\"fill: none; stroke: #888; stroke-width: 1; opacity: 1;\"></line><line transform=\"translate(0,114)\" x2=\"-5\" y2=\"0\" style=\"fill: none; stroke: #888; stroke-width: 1; opacity: 1;\"></line><line transform=\"translate(0,86)\" x2=\"-5\" y2=\"0\" style=\"fill: none; stroke: #888; stroke-width: 1; opacity: 1;\"></line><line transform=\"translate(0,57)\" x2=\"-5\" y2=\"0\" style=\"fill: none; stroke: #888; stroke-width: 1; opacity: 1;\"></line><line transform=\"translate(0,29)\" x2=\"-5\" y2=\"0\" style=\"fill: none; stroke: #888; stroke-width: 1; opacity: 1;\"></line><line transform=\"translate(0,0)\" x2=\"-5\" y2=\"0\" style=\"fill: none; stroke: #888; stroke-width: 1; opacity: 1;\"></line></g><g class=\"mark-text role-axis-label\" style=\"pointer-events: none;\"><text text-anchor=\"end\" transform=\"translate(-7,203)\" style=\"font-family: sans-serif; font-size: 10px; fill: #000; opacity: 1;\">0</text><text text-anchor=\"end\" transform=\"translate(-7,174.42857142857144)\" style=\"font-family: sans-serif; font-size: 10px; fill: #000; opacity: 1;\">10</text><text text-anchor=\"end\" transform=\"translate(-7,145.85714285714286)\" style=\"font-family: sans-serif; font-size: 10px; fill: #000; opacity: 1;\">20</text><text text-anchor=\"end\" transform=\"translate(-7,117.28571428571429)\" style=\"font-family: sans-serif; font-size: 10px; fill: #000; opacity: 1;\">30</text><text text-anchor=\"end\" transform=\"translate(-7,88.71428571428572)\" style=\"font-family: sans-serif; font-size: 10px; fill: #000; opacity: 1;\">40</text><text text-anchor=\"end\" transform=\"translate(-7,60.14285714285714)\" style=\"font-family: sans-serif; font-size: 10px; fill: #000; opacity: 1;\">50</text><text text-anchor=\"end\" transform=\"translate(-7,31.571428571428584)\" style=\"font-family: sans-serif; font-size: 10px; fill: #000; opacity: 1;\">60</text><text text-anchor=\"end\" transform=\"translate(-7,3)\" style=\"font-family: sans-serif; font-size: 10px; fill: #000; opacity: 1;\">70</text></g><g class=\"mark-rule role-axis-domain\" style=\"pointer-events: none;\"><line transform=\"translate(0,200)\" x2=\"0\" y2=\"-200\" style=\"fill: none; stroke: #888; stroke-width: 1; opacity: 1;\"></line></g><g class=\"mark-text role-axis-title\" style=\"pointer-events: none;\"><text text-anchor=\"middle\" transform=\"translate(-34,100) rotate(-90) translate(0,-2)\" style=\"font-family: sans-serif; font-size: 11px; font-weight: bold; fill: #000; opacity: 1;\">Suicide Rates (Per 100,000 Population)</text></g></g></g></g></g></g></g></g></svg>"
      ],
      "text/plain": [
       "VegaLite.VLSpec{:plot}"
      ]
     },
     "execution_count": 96,
     "metadata": {},
     "output_type": "execute_result"
    }
   ],
   "source": [
    "# Create a stacked bar plot of the suicide rates of males and females for countries in Europe.\n",
    "df |>\n",
    "@vlplot(:bar,\n",
    "    title = \"Suicide Rates For Males and Females in Europe\",\n",
    "    color={ :Sex,\n",
    "      scale = {range = [\"#AEBD38\", \"#68829E\"]}\n",
    "    },\n",
    "    x={ :Country,\n",
    "        title = \"Country\"\n",
    "    },\n",
    "    y={ :value,\n",
    "        title = \"Suicide Rates (Per 100,000 Population)\"\n",
    "    })"
   ]
  },
  {
   "cell_type": "markdown",
   "metadata": {},
   "source": [
    "As we can see, on average, males make up a significantly higher proportion of the suicide rates per 100,000 population compared to females for the year 2016 for countries in the European Union. Lithuania has the highest total of deaths by suicide out of all the countries in the European Union whereas Cyprus and Greece have two of the lowest total suicide rates and suicide rates by gender in the European Union for the year 2016."
   ]
  }
 ],
 "metadata": {
  "kernelspec": {
   "display_name": "Julia 0.7.0",
   "language": "julia",
   "name": "julia-0.7"
  },
  "language_info": {
   "file_extension": ".jl",
   "mimetype": "application/julia",
   "name": "julia",
   "version": "0.7.0"
  }
 },
 "nbformat": 4,
 "nbformat_minor": 2
}
